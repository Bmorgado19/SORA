{
 "cells": [
  {
   "cell_type": "markdown",
   "metadata": {},
   "source": [
    "# _prediction()_ function and the PredictionTable Class\n",
    "\n",
    "The prediction module within SORA was created to predict stellar occultation, organize the prediction and plot the occultation maps. The documentation <a href=https://sora.readthedocs.io/>here</a> contains the details about every step.  \n",
    "\n",
    "This Jupyter-Notebook was designed as a tutorial for how to work with the prediction module. Any further question, please contact the core team: Altair Ramos Gomes Júnior, Bruno Eduardo Morgado, Gustavo Benedetti Rossi, and Rodrigo Carlos Boufleur.\n",
    "\n",
    "**All functions have their Docstring containing its main purpose and the needed parameters (physical description and formats). Please, do not hesitate to use it.**\n",
    "\n",
    "## 0. Index\n",
    "\n",
    "1. [Predicting stellar occultation](#section_1)\n",
    "2. [Setting and/or modifying parameters](#section_2)\n",
    "3. [Apparent Sidereal Time](#section_3)\n",
    "4. [Ksi and Eta projection](#section_4)\n",
    "5. [MPC observatories](#section_5)"
   ]
  },
  {
   "cell_type": "markdown",
   "metadata": {},
   "source": [
    "<a id=\"section_1\"></a>\n",
    "\n",
    "## 1. Predicting stellar occultation\n",
    "\n",
    "To predict a stellar occultation, the function `prediction()` must be used. It will need a `Body` Object and the time interval for the search. The function will generate the ephemeris within the given interval (with a default step of 60 seconds between positions, that may be changed by the user) and download the star coordinates from VizieR. The function is able to download stars from Gaia-DR2 and Gaia-EDR3. The user must select the one desired by the keys _\"gaiadr2\"_ and _\"gaiaedr3\"_ (default in this version). For every star, it checks the closest ephemeris. An occultation is identified if the distance is smaller than the radius of the Earth plus the radius of the object (given in `Body`) plus the error of the ephemeris (multiplied by a sigma factor given by the user). In the next step, the coordinate of the star is propagated to date using proper motion and parallax. It results in the occultation parameters, such as the Closest Approach distance, the Position Angle, Velocity, etc.\n",
    "\n",
    "The function returns a `PredictionTable` with all the information."
   ]
  },
  {
   "cell_type": "code",
   "execution_count": 1,
   "metadata": {},
   "outputs": [
    {
     "name": "stdout",
     "output_type": "stream",
     "text": [
      "SORA version: 1.0dev\n"
     ]
    }
   ],
   "source": [
    "from sora.prediction import prediction"
   ]
  },
  {
   "cell_type": "code",
   "execution_count": 2,
   "metadata": {},
   "outputs": [
    {
     "data": {
      "text/plain": [
       "\u001b[0;31mSignature:\u001b[0m\n",
       "\u001b[0mprediction\u001b[0m\u001b[0;34m(\u001b[0m\u001b[0;34m\u001b[0m\n",
       "\u001b[0;34m\u001b[0m    \u001b[0mtime_beg\u001b[0m\u001b[0;34m,\u001b[0m\u001b[0;34m\u001b[0m\n",
       "\u001b[0;34m\u001b[0m    \u001b[0mtime_end\u001b[0m\u001b[0;34m,\u001b[0m\u001b[0;34m\u001b[0m\n",
       "\u001b[0;34m\u001b[0m    \u001b[0mbody\u001b[0m\u001b[0;34m=\u001b[0m\u001b[0;32mNone\u001b[0m\u001b[0;34m,\u001b[0m\u001b[0;34m\u001b[0m\n",
       "\u001b[0;34m\u001b[0m    \u001b[0mephem\u001b[0m\u001b[0;34m=\u001b[0m\u001b[0;32mNone\u001b[0m\u001b[0;34m,\u001b[0m\u001b[0;34m\u001b[0m\n",
       "\u001b[0;34m\u001b[0m    \u001b[0mmag_lim\u001b[0m\u001b[0;34m=\u001b[0m\u001b[0;32mNone\u001b[0m\u001b[0;34m,\u001b[0m\u001b[0;34m\u001b[0m\n",
       "\u001b[0;34m\u001b[0m    \u001b[0mcatalogue\u001b[0m\u001b[0;34m=\u001b[0m\u001b[0;34m'gaiadr3'\u001b[0m\u001b[0;34m,\u001b[0m\u001b[0;34m\u001b[0m\n",
       "\u001b[0;34m\u001b[0m    \u001b[0mstep\u001b[0m\u001b[0;34m=\u001b[0m\u001b[0;36m60\u001b[0m\u001b[0;34m,\u001b[0m\u001b[0;34m\u001b[0m\n",
       "\u001b[0;34m\u001b[0m    \u001b[0mdivs\u001b[0m\u001b[0;34m=\u001b[0m\u001b[0;36m1\u001b[0m\u001b[0;34m,\u001b[0m\u001b[0;34m\u001b[0m\n",
       "\u001b[0;34m\u001b[0m    \u001b[0msigma\u001b[0m\u001b[0;34m=\u001b[0m\u001b[0;36m1\u001b[0m\u001b[0;34m,\u001b[0m\u001b[0;34m\u001b[0m\n",
       "\u001b[0;34m\u001b[0m    \u001b[0mradius\u001b[0m\u001b[0;34m=\u001b[0m\u001b[0;32mNone\u001b[0m\u001b[0;34m,\u001b[0m\u001b[0;34m\u001b[0m\n",
       "\u001b[0;34m\u001b[0m    \u001b[0mverbose\u001b[0m\u001b[0;34m=\u001b[0m\u001b[0;32mTrue\u001b[0m\u001b[0;34m,\u001b[0m\u001b[0;34m\u001b[0m\n",
       "\u001b[0;34m\u001b[0m    \u001b[0mreference_center\u001b[0m\u001b[0;34m=\u001b[0m\u001b[0;34m'geocenter'\u001b[0m\u001b[0;34m,\u001b[0m\u001b[0;34m\u001b[0m\n",
       "\u001b[0;34m\u001b[0m\u001b[0;34m)\u001b[0m\u001b[0;34m\u001b[0m\u001b[0;34m\u001b[0m\u001b[0m\n",
       "\u001b[0;31mDocstring:\u001b[0m\n",
       "Predicts stellar occultations.\n",
       "\n",
       "Parameters\n",
       "----------\n",
       "time_beg : `str`, `astropy.time.Time`, required\n",
       "    Initial time for prediction.\n",
       "\n",
       "time_end : `str`, `astropy.time.Time`, required\n",
       "    Final time for prediction.\n",
       "\n",
       "body : `sora.Body`, `str`, default=None\n",
       "    Object that will occult the stars. It must be a Body object or its name\n",
       "    to search in the Small Body Database.\n",
       "\n",
       "ephem : `sora.Ephem`, default=None\n",
       "    object ephemeris. It must be an Ephemeris object.\n",
       "    If using a EphemHorizons object, please use 'divs' to make division\n",
       "    at most a month, or a timeout error may be raised by the Horizon query.\n",
       "\n",
       "mag_lim : `int`, `float`, `dict`, default=None\n",
       "    Faintest Gmag allowed in the search.\n",
       "\n",
       "catalogue : `str`, `VizierCatalogue`\n",
       "    The catalogue to download data. It can be ``'gaiadr2'``, ``'gaiaedr3'``,\n",
       "    ``'gaiadr3'``, or a VizierCatalogue object. default='gaiadr3'\n",
       "\n",
       "step : `int`, `float`, default=60\n",
       "    Step, in seconds, of ephem times for search\n",
       "\n",
       "divs : `int`, default=1\n",
       "    Number of regions the ephemeris will be split for better search of\n",
       "    occultations.\n",
       "\n",
       "sigma : `int`, `float`, default=1\n",
       "    Ephemeris error sigma for search off-Earth.\n",
       "\n",
       "radius : `int`, `float`, default=None\n",
       "    The radius of the body. It is important if not defined in body or ephem.\n",
       "\n",
       "verbose : `bool`, default=True\n",
       "    To show what is being done at the moment.\n",
       "\n",
       "reference_center : `str`, `sora.Observer`, `sora.Spacecraft`\n",
       "    A SORA observer object or a string 'geocenter'.\n",
       "    The occultation parameters will be calculated in respect\n",
       "    to this reference as center of projection. If a Spacecraft\n",
       "    is used, please use smaller step since the search will be based\n",
       "    on the target size and ephemeris error only.\n",
       "\n",
       "\n",
       "Important\n",
       "---------\n",
       "When instantiating with \"body\" and \"ephem\", the user may call the function\n",
       "in 3 ways:\n",
       "\n",
       "1 - With \"body\" and \"ephem\".\n",
       "\n",
       "2 - With only \"body\". In this case, the \"body\" parameter must be a Body\n",
       "object and have an ephemeris associated (see Body documentation).\n",
       "\n",
       "3 - With only \"ephem\". In this case, the \"ephem\" parameter must be one of\n",
       "the Ephem Classes and have a name (see Ephem documentation) to search\n",
       "for the body in the Small Body Database.\n",
       "\n",
       "Returns\n",
       "-------\n",
       " : `sora.prediction.PredictionTable`\n",
       "    PredictionTable with the occultation params for each event.\n",
       "\u001b[0;31mFile:\u001b[0m      ~/miniconda3/envs/sora-develop-stats/lib/python3.9/site-packages/sora_astro-1.0.dev0-py3.9.egg/sora/prediction/core.py\n",
       "\u001b[0;31mType:\u001b[0m      function\n"
      ]
     },
     "metadata": {},
     "output_type": "display_data"
    }
   ],
   "source": [
    "prediction?"
   ]
  },
  {
   "cell_type": "markdown",
   "metadata": {},
   "source": [
    "**Importing and defining the** `Body` **to be used.**\n",
    "\n",
    "As showed in the docstring of the `prediction()` function, the user can give a `Body` object, an `Ephem` object, or both (given their restrictions). Please refer to the `Body` tutorial for further explanation."
   ]
  },
  {
   "cell_type": "code",
   "execution_count": 3,
   "metadata": {},
   "outputs": [
    {
     "name": "stdout",
     "output_type": "stream",
     "text": [
      "Obtaining data for Chariklo from SBDB\n"
     ]
    }
   ],
   "source": [
    "from sora.body import Body\n",
    "from sora.ephem import EphemKernel\n",
    "\n",
    "chariklo = Body(name='Chariklo')\n",
    "ephem = EphemKernel(spkid='2010199', kernels=['input/bsp/Chariklo.bsp', 'input/bsp/de438_small.bsp'], error_ra=0.01, error_dec=0.01)\n",
    "# here I'm using Body and Ephem so I'm able to give the errors in RA and DEC.\n",
    "chariklo.ephem = ephem"
   ]
  },
  {
   "cell_type": "code",
   "execution_count": 4,
   "metadata": {},
   "outputs": [
    {
     "name": "stdout",
     "output_type": "stream",
     "text": [
      "Ephemeris was split in 3 parts for better search of stars\n",
      "\n",
      "Searching occultations in part 1/3\n",
      "Generating Ephemeris between 2017-06-20 00:00:00.000 and 2017-06-23 15:59:00.000 ...\n",
      "Downloading stars ...\n",
      "    15 GaiaDR3 stars downloaded\n",
      "Identifying occultations ...\n",
      "\n",
      "Searching occultations in part 2/3\n",
      "Generating Ephemeris between 2017-06-23 16:00:00.000 and 2017-06-27 07:59:00.000 ...\n",
      "Downloading stars ...\n",
      "    12 GaiaDR3 stars downloaded\n",
      "Identifying occultations ...\n",
      "\n",
      "Searching occultations in part 3/3\n",
      "Generating Ephemeris between 2017-06-27 08:00:00.000 and 2017-06-30 23:59:00.000 ...\n",
      "Downloading stars ...\n",
      "    18 GaiaDR3 stars downloaded\n",
      "Identifying occultations ...\n",
      "\n",
      "8 occultations found.\n"
     ]
    }
   ],
   "source": [
    "pred = prediction(body=chariklo, time_beg='2017-06-20 00:00:00', time_end='2017-07-01 00:00:00', mag_lim=18, divs=3)"
   ]
  },
  {
   "cell_type": "markdown",
   "metadata": {},
   "source": [
    "**Important**\n",
    "\n",
    "The default prediction is made considering the geocenter as center of reference. However, the prediction can also be made for a specific observer. In this case, it is important to note that the search considers only the size of the object and ephemeris error. If the object is very small, consider using a time `step` for initial prediction smaller, or using a different `radius` to avoid losing a promising event. Notice the occultation parameters (closest appoach time and distance, ...) are referred to the observer."
   ]
  },
  {
   "cell_type": "code",
   "execution_count": 5,
   "metadata": {},
   "outputs": [
    {
     "name": "stdout",
     "output_type": "stream",
     "text": [
      "Ephemeris was split in 3 parts for better search of stars\n",
      "\n",
      "Searching occultations in part 1/3\n",
      "Generating Ephemeris between 2017-06-20 00:00:00.000 and 2017-06-23 15:59:50.000 ...\n",
      "Downloading stars ...\n",
      "    10 GaiaDR3 stars downloaded\n",
      "Identifying occultations ...\n",
      "\n",
      "Searching occultations in part 2/3\n",
      "Generating Ephemeris between 2017-06-23 16:00:00.000 and 2017-06-27 07:59:50.000 ...\n",
      "Downloading stars ...\n",
      "    7 GaiaDR3 stars downloaded\n",
      "Identifying occultations ...\n",
      "\n",
      "Searching occultations in part 3/3\n",
      "Generating Ephemeris between 2017-06-27 08:00:00.000 and 2017-06-30 23:59:50.000 ...\n",
      "Downloading stars ...\n",
      "    15 GaiaDR3 stars downloaded\n",
      "Identifying occultations ...\n",
      "\n",
      "1 occultations found.\n"
     ]
    }
   ],
   "source": [
    "from sora import Observer\n",
    "outeniqua = Observer(name='Outeniqua', lon='+16 49 17.710', lat='-21 17 58.170', height=1416,\n",
    "                     ephem=['input/bsp/Chariklo.bsp', 'input/bsp/de438_small.bsp'])\n",
    "\n",
    "obs_pred = prediction(body=chariklo, time_beg='2017-06-20 00:00:00', time_end='2017-07-01 00:00:00', step=10,\n",
    "                      mag_lim=18, divs=3, reference_center=outeniqua)"
   ]
  },
  {
   "cell_type": "code",
   "execution_count": 6,
   "metadata": {},
   "outputs": [
    {
     "data": {
      "text/html": [
       "<i>PredictRow index=0</i>\n",
       "<table id=\"table139693562998304\">\n",
       "<thead><tr><th>Epoch</th><th>ICRS Star Coord at Epoch</th><th>Geocentric Object Position</th><th>C/A</th><th>P/A</th><th>Vel</th><th>Dist</th><th>G</th><th>long</th><th>loct</th><th>M-G-T</th><th>S-G-T</th><th>GaiaDR3 Source ID</th></tr></thead>\n",
       "<thead><tr><th></th><th></th><th></th><th>arcsec</th><th>deg</th><th>km / s</th><th>AU</th><th>mag</th><th>deg</th><th>hh:mm</th><th>deg</th><th>deg</th><th></th></tr></thead>\n",
       "<thead><tr><th>object</th><th>object</th><th>object</th><th>float64</th><th>float64</th><th>float64</th><th>float64</th><th>float64</th><th>float64</th><th>str5</th><th>float64</th><th>float64</th><th>str19</th></tr></thead>\n",
       "<tr><td>2017-06-22 21:21:25.600</td><td>18 55 15.65251 -31 31 21.67062</td><td>18 55 15.65251 -31 31 21.67688</td><td>0.006</td><td>179.52</td><td>-22.36</td><td>14.659</td><td>14.224</td><td>52</td><td>00:50</td><td>149</td><td>166</td><td>6760223758801661440</td></tr>\n",
       "</table>"
      ],
      "text/plain": [
       "<PredictRow index=0>\n",
       "         Epoch             ICRS Star Coord at Epoch      Geocentric Object Position     C/A     P/A     Vel     Dist     G      long   loct  M-G-T   S-G-T   GaiaDR3 Source ID \n",
       "                                                                                       arcsec   deg    km / s    AU     mag     deg   hh:mm   deg     deg                      \n",
       "         object                     object                         object             float64 float64 float64 float64 float64 float64  str5 float64 float64        str19       \n",
       "----------------------- ------------------------------ ------------------------------ ------- ------- ------- ------- ------- ------- ----- ------- ------- -------------------\n",
       "2017-06-22 21:21:25.600 18 55 15.65251 -31 31 21.67062 18 55 15.65251 -31 31 21.67688   0.006  179.52  -22.36  14.659  14.224      52 00:50     149     166 6760223758801661440"
      ]
     },
     "execution_count": 6,
     "metadata": {},
     "output_type": "execute_result"
    }
   ],
   "source": [
    "obs_pred[0]"
   ]
  },
  {
   "cell_type": "code",
   "execution_count": 7,
   "metadata": {},
   "outputs": [
    {
     "data": {
      "text/html": [
       "<i>PredictRow index=2</i>\n",
       "<table id=\"table139693560784208\">\n",
       "<thead><tr><th>Epoch</th><th>ICRS Star Coord at Epoch</th><th>Geocentric Object Position</th><th>C/A</th><th>P/A</th><th>Vel</th><th>Dist</th><th>G</th><th>long</th><th>loct</th><th>M-G-T</th><th>S-G-T</th><th>GaiaDR3 Source ID</th></tr></thead>\n",
       "<thead><tr><th></th><th></th><th></th><th>arcsec</th><th>deg</th><th>km / s</th><th>AU</th><th>mag</th><th>deg</th><th>hh:mm</th><th>deg</th><th>deg</th><th></th></tr></thead>\n",
       "<thead><tr><th>object</th><th>object</th><th>object</th><th>float64</th><th>float64</th><th>float64</th><th>float64</th><th>float64</th><th>float64</th><th>str5</th><th>float64</th><th>float64</th><th>str19</th></tr></thead>\n",
       "<tr><td>2017-06-22 21:18:48.200</td><td>18 55 15.65251 -31 31 21.67062</td><td>18 55 15.65249 -31 31 21.62190</td><td>0.049</td><td>359.72</td><td>-22.00</td><td>14.659</td><td>14.224</td><td>53</td><td>00:50</td><td>149</td><td>166</td><td>6760223758801661440</td></tr>\n",
       "</table>"
      ],
      "text/plain": [
       "<PredictRow index=2>\n",
       "         Epoch             ICRS Star Coord at Epoch      Geocentric Object Position     C/A     P/A     Vel     Dist     G      long   loct  M-G-T   S-G-T   GaiaDR3 Source ID \n",
       "                                                                                       arcsec   deg    km / s    AU     mag     deg   hh:mm   deg     deg                      \n",
       "         object                     object                         object             float64 float64 float64 float64 float64 float64  str5 float64 float64        str19       \n",
       "----------------------- ------------------------------ ------------------------------ ------- ------- ------- ------- ------- ------- ----- ------- ------- -------------------\n",
       "2017-06-22 21:18:48.200 18 55 15.65251 -31 31 21.67062 18 55 15.65249 -31 31 21.62190   0.049  359.72  -22.00  14.659  14.224      53 00:50     149     166 6760223758801661440"
      ]
     },
     "execution_count": 7,
     "metadata": {},
     "output_type": "execute_result"
    }
   ],
   "source": [
    "pred['2017-06-22 21']"
   ]
  },
  {
   "cell_type": "markdown",
   "metadata": {},
   "source": [
    "<a id=\"section_2\"></a>\n",
    "\n",
    "## 2. The PredictionTable\n",
    "\n",
    "The resulting variable of the prediction function is a `PredictionTable` Object. The `PredictionTable` Class was created to have all the information about the occultations predicted, plot occultation maps and save the table in other formats.\n",
    "\n",
    "**The** `PredictionTable` **is a class that inherits all methods from** `Astropy.table.Table` **. All the functions present in** `Astropy.table.Table` **should work for** `PredictionTable`.\n",
    "\n",
    "More information about it at https://docs.astropy.org/en/stable/table/"
   ]
  },
  {
   "cell_type": "markdown",
   "metadata": {},
   "source": [
    "**if the user asks to print the prediction, a summary of the table is shown.**"
   ]
  },
  {
   "cell_type": "code",
   "execution_count": 8,
   "metadata": {},
   "outputs": [
    {
     "name": "stdout",
     "output_type": "stream",
     "text": [
      "         Epoch             ICRS Star Coord at Epoch    ...  GaiaDR3 Source ID \n",
      "                                                       ...                    \n",
      "----------------------- ------------------------------ ... -------------------\n",
      "2017-06-21 09:57:43.440 18 55 36.17454 -31 31 19.03261 ... 6760228702284187264\n",
      "2017-06-22 02:58:37.480 18 55 26.31652 -31 31 20.38440 ... 6760228839723992320\n",
      "2017-06-22 21:18:48.200 18 55 15.65251 -31 31 21.67062 ... 6760223758801661440\n",
      "2017-06-23 21:34:37.660 18 55 01.48119 -31 31 22.44257 ... 6760223513963694208\n",
      "2017-06-24 10:13:39.980 18 54 54.06755 -31 31 22.36732 ... 6760226503261782656\n",
      "2017-06-25 10:55:09.320 18 54 39.55296 -31 31 21.69987 ... 6760225163236852864\n",
      "2017-06-26 08:14:35.540 18 54 26.97503 -31 31 20.51255 ... 6760226060885482624\n",
      "2017-06-26 20:46:07.140 18 54 19.56971 -31 31 20.43382 ... 6760225712991422208\n"
     ]
    }
   ],
   "source": [
    "print(pred)"
   ]
  },
  {
   "cell_type": "markdown",
   "metadata": {},
   "source": [
    "**to print the complete table, we must use:**"
   ]
  },
  {
   "cell_type": "code",
   "execution_count": 9,
   "metadata": {},
   "outputs": [
    {
     "name": "stdout",
     "output_type": "stream",
     "text": [
      "         Epoch             ICRS Star Coord at Epoch      Geocentric Object Position    C/A    P/A    Vel     Dist    G    long  loct M-G-T S-G-T  GaiaDR3 Source ID \n",
      "                                                                                      arcsec  deg   km / s    AU    mag   deg  hh:mm  deg   deg                     \n",
      "----------------------- ------------------------------ ------------------------------ ------ ------ ------ ------- ------ ---- ----- ----- ----- -------------------\n",
      "2017-06-21 09:57:43.440 18 55 36.17454 -31 31 19.03261 18 55 36.17500 -31 31 19.60516  0.573 179.41 -21.84  14.663 15.254  225 00:56   128   165 6760228702284187264\n",
      "2017-06-22 02:58:37.480 18 55 26.31652 -31 31 20.38440 18 55 26.31674 -31 31 20.74213  0.358 179.55 -21.92  14.661 17.929  329 00:53   138   166 6760228839723992320\n",
      "2017-06-22 21:18:48.200 18 55 15.65251 -31 31 21.67062 18 55 15.65249 -31 31 21.62190  0.049 359.72 -22.00  14.659 14.224   53 00:50   149   166 6760223758801661440\n",
      "2017-06-23 21:34:37.660 18 55 01.48119 -31 31 22.44257 18 55 01.48116 -31 31 22.22700  0.216 359.91 -22.10  14.657 17.818   48 00:46   162   167 6760223513963694208\n",
      "2017-06-24 10:13:39.980 18 54 54.06755 -31 31 22.36732 18 54 54.06755 -31 31 22.28669  0.081   0.01 -22.15  14.656 17.928  218 00:43   167   168 6760226503261782656\n",
      "2017-06-25 10:55:09.320 18 54 39.55296 -31 31 21.69987 18 54 39.55291 -31 31 21.89148  0.192 180.23 -22.23  14.654 16.955  206 00:39   164   168 6760225163236852864\n",
      "2017-06-26 08:14:35.540 18 54 26.97503 -31 31 20.51255 18 54 26.97476 -31 31 20.99937  0.487 180.41 -22.30  14.653 17.603  245 00:35   154   169 6760226060885482624\n",
      "2017-06-26 20:46:07.140 18 54 19.56971 -31 31 20.43382 18 54 19.56985 -31 31 20.23484  0.199   0.51 -22.33  14.652 17.702   57 00:33   147   169 6760225712991422208\n"
     ]
    }
   ],
   "source": [
    "pred.pprint_all()"
   ]
  },
  {
   "cell_type": "markdown",
   "metadata": {},
   "source": [
    "*M-G-T stands for Moon-Geocenter-Target, the on-sky angle between the star and the moon*\n",
    "\n",
    "*S-G-T stands for Sun-Geocenter-Target, the on-sky angle between the star and the sun*"
   ]
  },
  {
   "cell_type": "markdown",
   "metadata": {},
   "source": [
    "**The** `PredictionTable` **can be exported to PRAIA format file**\n",
    "\n",
    "In this case, some information, such as the Gaia-DR2 Source ID, S-G-T and M-G-T, are lost."
   ]
  },
  {
   "cell_type": "code",
   "execution_count": 10,
   "metadata": {},
   "outputs": [
    {
     "data": {
      "text/plain": [
       "\u001b[0;31mSignature:\u001b[0m \u001b[0mpred\u001b[0m\u001b[0;34m.\u001b[0m\u001b[0mto_praia\u001b[0m\u001b[0;34m(\u001b[0m\u001b[0mfilename\u001b[0m\u001b[0;34m)\u001b[0m\u001b[0;34m\u001b[0m\u001b[0;34m\u001b[0m\u001b[0m\n",
       "\u001b[0;31mDocstring:\u001b[0m\n",
       "Writes PredictionTable to PRAIA format.\n",
       "\n",
       "Parameters\n",
       "----------\n",
       "filename : `str`\n",
       "    Name of the file to save table.\n",
       "\u001b[0;31mFile:\u001b[0m      ~/miniconda3/envs/sora-develop-stats/lib/python3.9/site-packages/sora_astro-1.0.dev0-py3.9.egg/sora/prediction/table.py\n",
       "\u001b[0;31mType:\u001b[0m      method\n"
      ]
     },
     "metadata": {},
     "output_type": "display_data"
    }
   ],
   "source": [
    "pred.to_praia?"
   ]
  },
  {
   "cell_type": "code",
   "execution_count": 11,
   "metadata": {},
   "outputs": [],
   "source": [
    "pred.to_praia('output/Chariklo_occs.table')\n",
    "# Check your folder named output"
   ]
  },
  {
   "cell_type": "markdown",
   "metadata": {},
   "source": [
    "**The** `PredictionTable` **can also generate the files in the Occult Watcher feed format**\n",
    "\n",
    "These are two files, named 'LOG.dat' and 'tableOccult_update.txt'. The occult watcher designation for the object must be informed. For instance, for the satellite Himalia, the designation is \"P5M06\". If `mode='append'` the prediction will be appended to an existing file. If `mode='restart'`, the file will be overwritted."
   ]
  },
  {
   "cell_type": "code",
   "execution_count": 12,
   "metadata": {},
   "outputs": [
    {
     "data": {
      "text/plain": [
       "\u001b[0;31mSignature:\u001b[0m \u001b[0mpred\u001b[0m\u001b[0;34m.\u001b[0m\u001b[0mto_ow\u001b[0m\u001b[0;34m(\u001b[0m\u001b[0mow_des\u001b[0m\u001b[0;34m,\u001b[0m \u001b[0mmode\u001b[0m\u001b[0;34m=\u001b[0m\u001b[0;34m'append'\u001b[0m\u001b[0;34m)\u001b[0m\u001b[0;34m\u001b[0m\u001b[0;34m\u001b[0m\u001b[0m\n",
       "\u001b[0;31mDocstring:\u001b[0m\n",
       "Writes PredictionTable to OccultWatcher feeder update file format.\n",
       "Tables will be saved in two files: \"tableOccult_update.txt\" and \"LOG.dat\"\n",
       "\n",
       "Parameters\n",
       "----------\n",
       "ow_des : `str`\n",
       "    Occult Watcher designation for the object.\n",
       "\n",
       "mode : `str`, default='append'\n",
       "    Use ``'append'`` to append table to already existing file and\n",
       "    ``'restart'`` to overwrite existing file.\n",
       "\u001b[0;31mFile:\u001b[0m      ~/miniconda3/envs/sora-develop-stats/lib/python3.9/site-packages/sora_astro-1.0.dev0-py3.9.egg/sora/prediction/table.py\n",
       "\u001b[0;31mType:\u001b[0m      method\n"
      ]
     },
     "metadata": {},
     "output_type": "display_data"
    }
   ],
   "source": [
    "pred.to_ow?"
   ]
  },
  {
   "cell_type": "code",
   "execution_count": 13,
   "metadata": {},
   "outputs": [],
   "source": [
    "pred.to_ow('1997CU26')"
   ]
  },
  {
   "cell_type": "markdown",
   "metadata": {},
   "source": [
    "**Using the functions from** `Astropy.table.Table` **, the data can be exported to many other formats using the funtion 'write'**\n",
    "\n",
    "The formats allowed can be seen in https://docs.astropy.org/en/stable/io/unified.html#built-in-readers-writers. This includes latex and csv."
   ]
  },
  {
   "cell_type": "code",
   "execution_count": 14,
   "metadata": {},
   "outputs": [],
   "source": [
    "pred.write('output/prediction.tex', overwrite=True)\n",
    "# Check your folder named output"
   ]
  },
  {
   "cell_type": "markdown",
   "metadata": {},
   "source": [
    "<a id=\"section_3\"></a>\n",
    "\n",
    "## 3. Using PredictionTable\n",
    "\n",
    "The `PredictionTable` was not created to be instantiated directly by the user. It was designed to be an insteresting output object from the prediction function. However, a `PredictionTable` can be instantiated from a PRAIA occultation table. For this, a `PredictionTable` method must be called directly as shown below."
   ]
  },
  {
   "cell_type": "code",
   "execution_count": 15,
   "metadata": {},
   "outputs": [],
   "source": [
    "from sora.prediction import PredictionTable"
   ]
  },
  {
   "cell_type": "code",
   "execution_count": 16,
   "metadata": {},
   "outputs": [
    {
     "data": {
      "text/plain": [
       "\u001b[0;31mSignature:\u001b[0m \u001b[0mPredictionTable\u001b[0m\u001b[0;34m.\u001b[0m\u001b[0mfrom_praia\u001b[0m\u001b[0;34m(\u001b[0m\u001b[0mfilename\u001b[0m\u001b[0;34m,\u001b[0m \u001b[0mname\u001b[0m\u001b[0;34m,\u001b[0m \u001b[0;34m**\u001b[0m\u001b[0mkwargs\u001b[0m\u001b[0;34m)\u001b[0m\u001b[0;34m\u001b[0m\u001b[0;34m\u001b[0m\u001b[0m\n",
       "\u001b[0;31mDocstring:\u001b[0m\n",
       "Creates a PredictionTable Table reading from a PRAIA table.\n",
       "\n",
       "Parameters\n",
       "----------\n",
       "filename : `str`\n",
       "    Path to the PRAIA table file.\n",
       "\n",
       "name : `str`\n",
       "    Name of the Object of the prediction.\n",
       "\n",
       "radius : `int`, `float`, optional\n",
       "    Object radius, in km.\n",
       "    If not given it's searched in online database.\n",
       "    When not found online, the default is set to zero.\n",
       "\n",
       "Returns\n",
       "-------\n",
       " : `sora.prediction.PredictionTable`\n",
       "    A PredictionTable object.\n",
       "\u001b[0;31mFile:\u001b[0m      ~/miniconda3/envs/sora-develop-stats/lib/python3.9/site-packages/sora_astro-1.0.dev0-py3.9.egg/sora/prediction/table.py\n",
       "\u001b[0;31mType:\u001b[0m      method\n"
      ]
     },
     "metadata": {},
     "output_type": "display_data"
    }
   ],
   "source": [
    "PredictionTable.from_praia?"
   ]
  },
  {
   "cell_type": "code",
   "execution_count": 17,
   "metadata": {},
   "outputs": [
    {
     "name": "stdout",
     "output_type": "stream",
     "text": [
      "Obtaining data for chariklo from SBDB\n"
     ]
    },
    {
     "ename": "AttributeError",
     "evalue": "'numpy.ndarray' object has no attribute 'items'",
     "output_type": "error",
     "traceback": [
      "\u001b[0;31m---------------------------------------------------------------------------\u001b[0m",
      "\u001b[0;31mAttributeError\u001b[0m                            Traceback (most recent call last)",
      "Input \u001b[0;32mIn [17]\u001b[0m, in \u001b[0;36m<cell line: 1>\u001b[0;34m()\u001b[0m\n\u001b[0;32m----> 1\u001b[0m pred_1 \u001b[38;5;241m=\u001b[39m \u001b[43mPredictionTable\u001b[49m\u001b[38;5;241;43m.\u001b[39;49m\u001b[43mfrom_praia\u001b[49m\u001b[43m(\u001b[49m\u001b[43mfilename\u001b[49m\u001b[38;5;241;43m=\u001b[39;49m\u001b[38;5;124;43m'\u001b[39;49m\u001b[38;5;124;43moutput/Chariklo_occs.table\u001b[39;49m\u001b[38;5;124;43m'\u001b[39;49m\u001b[43m,\u001b[49m\u001b[43m \u001b[49m\u001b[43mname\u001b[49m\u001b[38;5;241;43m=\u001b[39;49m\u001b[38;5;124;43m'\u001b[39;49m\u001b[38;5;124;43mChariklo\u001b[39;49m\u001b[38;5;124;43m'\u001b[39;49m\u001b[43m)\u001b[49m\n",
      "File \u001b[0;32m~/miniconda3/envs/sora-develop-stats/lib/python3.9/site-packages/sora_astro-1.0.dev0-py3.9.egg/sora/prediction/table.py:359\u001b[0m, in \u001b[0;36mPredictionTable.from_praia\u001b[0;34m(cls, filename, name, **kwargs)\u001b[0m\n\u001b[1;32m    356\u001b[0m meta \u001b[38;5;241m=\u001b[39m {\u001b[38;5;124m'\u001b[39m\u001b[38;5;124mname\u001b[39m\u001b[38;5;124m'\u001b[39m: name, \u001b[38;5;124m'\u001b[39m\u001b[38;5;124mradius\u001b[39m\u001b[38;5;124m'\u001b[39m: radius, \u001b[38;5;124m'\u001b[39m\u001b[38;5;124mmax_ca\u001b[39m\u001b[38;5;124m'\u001b[39m: max_ca, \u001b[38;5;124m'\u001b[39m\u001b[38;5;124mephem\u001b[39m\u001b[38;5;124m'\u001b[39m: lines[\u001b[38;5;241m17\u001b[39m]\u001b[38;5;241m.\u001b[39msplit()[\u001b[38;5;241m-\u001b[39m\u001b[38;5;241m1\u001b[39m],\n\u001b[1;32m    357\u001b[0m         \u001b[38;5;124m'\u001b[39m\u001b[38;5;124merror_ra\u001b[39m\u001b[38;5;124m'\u001b[39m: error_ra\u001b[38;5;241m*\u001b[39m\u001b[38;5;241m1000\u001b[39m, \u001b[38;5;124m'\u001b[39m\u001b[38;5;124merror_dec\u001b[39m\u001b[38;5;124m'\u001b[39m: error_dec\u001b[38;5;241m*\u001b[39m\u001b[38;5;241m1000\u001b[39m}\n\u001b[1;32m    358\u001b[0m mag \u001b[38;5;241m=\u001b[39m dados[\u001b[38;5;124m'\u001b[39m\u001b[38;5;124mmR\u001b[39m\u001b[38;5;124m'\u001b[39m] \u001b[38;5;241m-\u001b[39m \u001b[38;5;241m2.5\u001b[39m \u001b[38;5;241m*\u001b[39m np\u001b[38;5;241m.\u001b[39mlog10(np\u001b[38;5;241m.\u001b[39mabsolute(dados[\u001b[38;5;124m'\u001b[39m\u001b[38;5;124mvel\u001b[39m\u001b[38;5;124m'\u001b[39m]) \u001b[38;5;241m/\u001b[39m \u001b[38;5;241m20.0\u001b[39m)\n\u001b[0;32m--> 359\u001b[0m \u001b[38;5;28;01mreturn\u001b[39;00m \u001b[38;5;28;43mcls\u001b[39;49m\u001b[43m(\u001b[49m\u001b[43mtime\u001b[49m\u001b[38;5;241;43m=\u001b[39;49m\u001b[43mtime\u001b[49m\u001b[43m,\u001b[49m\u001b[43m \u001b[49m\u001b[43mcoord_star\u001b[49m\u001b[38;5;241;43m=\u001b[39;49m\u001b[43mcoord_star\u001b[49m\u001b[43m,\u001b[49m\u001b[43m \u001b[49m\u001b[43mcoord_obj\u001b[49m\u001b[38;5;241;43m=\u001b[39;49m\u001b[43mcoord_obj\u001b[49m\u001b[43m,\u001b[49m\u001b[43m \u001b[49m\u001b[43mca\u001b[49m\u001b[38;5;241;43m=\u001b[39;49m\u001b[43mdados\u001b[49m\u001b[43m[\u001b[49m\u001b[38;5;124;43m'\u001b[39;49m\u001b[38;5;124;43mca\u001b[39;49m\u001b[38;5;124;43m'\u001b[39;49m\u001b[43m]\u001b[49m\u001b[43m,\u001b[49m\u001b[43m \u001b[49m\u001b[43mpa\u001b[49m\u001b[38;5;241;43m=\u001b[39;49m\u001b[43mdados\u001b[49m\u001b[43m[\u001b[49m\u001b[38;5;124;43m'\u001b[39;49m\u001b[38;5;124;43mpa\u001b[39;49m\u001b[38;5;124;43m'\u001b[39;49m\u001b[43m]\u001b[49m\u001b[43m,\u001b[49m\n\u001b[1;32m    360\u001b[0m \u001b[43m           \u001b[49m\u001b[43mvel\u001b[49m\u001b[38;5;241;43m=\u001b[39;49m\u001b[43mdados\u001b[49m\u001b[43m[\u001b[49m\u001b[38;5;124;43m'\u001b[39;49m\u001b[38;5;124;43mvel\u001b[39;49m\u001b[38;5;124;43m'\u001b[39;49m\u001b[43m]\u001b[49m\u001b[43m,\u001b[49m\u001b[43m \u001b[49m\u001b[43mmag\u001b[49m\u001b[38;5;241;43m=\u001b[39;49m\u001b[43mmag\u001b[49m\u001b[43m,\u001b[49m\u001b[43m \u001b[49m\u001b[43mdist\u001b[49m\u001b[38;5;241;43m=\u001b[39;49m\u001b[43mdados\u001b[49m\u001b[43m[\u001b[49m\u001b[38;5;124;43m'\u001b[39;49m\u001b[38;5;124;43mdelta\u001b[39;49m\u001b[38;5;124;43m'\u001b[39;49m\u001b[43m]\u001b[49m\u001b[43m,\u001b[49m\n\u001b[1;32m    361\u001b[0m \u001b[43m           \u001b[49m\u001b[43mlong\u001b[49m\u001b[38;5;241;43m=\u001b[39;49m\u001b[43mdados\u001b[49m\u001b[43m[\u001b[49m\u001b[38;5;124;43m'\u001b[39;49m\u001b[38;5;124;43mlong\u001b[39;49m\u001b[38;5;124;43m'\u001b[39;49m\u001b[43m]\u001b[49m\u001b[43m,\u001b[49m\u001b[43m \u001b[49m\u001b[43mloct\u001b[49m\u001b[38;5;241;43m=\u001b[39;49m\u001b[43mdados\u001b[49m\u001b[43m[\u001b[49m\u001b[38;5;124;43m'\u001b[39;49m\u001b[38;5;124;43mloct\u001b[39;49m\u001b[38;5;124;43m'\u001b[39;49m\u001b[43m]\u001b[49m\u001b[43m,\u001b[49m\u001b[43m \u001b[49m\u001b[43mmeta\u001b[49m\u001b[38;5;241;43m=\u001b[39;49m\u001b[43mmeta\u001b[49m\u001b[43m)\u001b[49m\n",
      "File \u001b[0;32m~/miniconda3/envs/sora-develop-stats/lib/python3.9/site-packages/sora_astro-1.0.dev0-py3.9.egg/sora/prediction/table.py:217\u001b[0m, in \u001b[0;36mPredictionTable.__init__\u001b[0;34m(self, *args, **kwargs)\u001b[0m\n\u001b[1;32m    215\u001b[0m     \u001b[38;5;28;01mraise\u001b[39;00m \u001b[38;5;167;01mValueError\u001b[39;00m(\u001b[38;5;124m'\u001b[39m\u001b[38;5;124mUser must provide \u001b[39m\u001b[38;5;124m\"\u001b[39m\u001b[38;5;124mmag\u001b[39m\u001b[38;5;124m\"\u001b[39m\u001b[38;5;124m or \u001b[39m\u001b[38;5;124m\"\u001b[39m\u001b[38;5;124mmag_20\u001b[39m\u001b[38;5;124m\"\u001b[39m\u001b[38;5;124m parameters\u001b[39m\u001b[38;5;124m'\u001b[39m)\n\u001b[1;32m    216\u001b[0m \u001b[38;5;28;01mif\u001b[39;00m \u001b[38;5;124m'\u001b[39m\u001b[38;5;124mmag\u001b[39m\u001b[38;5;124m'\u001b[39m \u001b[38;5;129;01min\u001b[39;00m kwargs\u001b[38;5;241m.\u001b[39mkeys():\n\u001b[0;32m--> 217\u001b[0m     \u001b[38;5;28;01mfor\u001b[39;00m band, vals \u001b[38;5;129;01min\u001b[39;00m \u001b[43mkwargs\u001b[49m\u001b[43m[\u001b[49m\u001b[38;5;124;43m'\u001b[39;49m\u001b[38;5;124;43mmag\u001b[39;49m\u001b[38;5;124;43m'\u001b[39;49m\u001b[43m]\u001b[49m\u001b[38;5;241;43m.\u001b[39;49m\u001b[43mitems\u001b[49m():\n\u001b[1;32m    218\u001b[0m         values[band] \u001b[38;5;241m=\u001b[39m Column(np\u001b[38;5;241m.\u001b[39marray(vals, ndmin\u001b[38;5;241m=\u001b[39m\u001b[38;5;241m1\u001b[39m), \u001b[38;5;28mformat\u001b[39m\u001b[38;5;241m=\u001b[39m\u001b[38;5;124m'\u001b[39m\u001b[38;5;124m6.3f\u001b[39m\u001b[38;5;124m'\u001b[39m, unit\u001b[38;5;241m=\u001b[39m\u001b[38;5;124m'\u001b[39m\u001b[38;5;124mmag\u001b[39m\u001b[38;5;124m'\u001b[39m)\n\u001b[1;32m    219\u001b[0m     \u001b[38;5;28;01mdel\u001b[39;00m kwargs[\u001b[38;5;124m'\u001b[39m\u001b[38;5;124mmag\u001b[39m\u001b[38;5;124m'\u001b[39m]\n",
      "\u001b[0;31mAttributeError\u001b[0m: 'numpy.ndarray' object has no attribute 'items'"
     ]
    }
   ],
   "source": [
    "pred_1 = PredictionTable.from_praia(filename='output/Chariklo_occs.table', name='Chariklo')"
   ]
  },
  {
   "cell_type": "code",
   "execution_count": null,
   "metadata": {},
   "outputs": [],
   "source": [
    "pred_1.pprint_all()"
   ]
  },
  {
   "cell_type": "markdown",
   "metadata": {},
   "source": [
    "To remove some occultations the User can use two functions. The first is the _PredictionTable.remove_occ()_."
   ]
  },
  {
   "cell_type": "code",
   "execution_count": null,
   "metadata": {},
   "outputs": [],
   "source": [
    "pred_1.remove_occ?"
   ]
  },
  {
   "cell_type": "code",
   "execution_count": null,
   "metadata": {},
   "outputs": [],
   "source": [
    "pred_1.remove_occ('2017-06-21 09:57')"
   ]
  },
  {
   "cell_type": "code",
   "execution_count": null,
   "metadata": {},
   "outputs": [],
   "source": [
    "pred_1.pprint_all()"
   ]
  },
  {
   "cell_type": "markdown",
   "metadata": {},
   "source": [
    "The second function is the `PredictionTable.keep_from_selected_images()` this function will check the names in the saved images and eliminate the occultations without the map. This functions allows that after the user deleted the maps of the unwanted occultation this function will eliminate the respective rows in the `PredictionTable`.  "
   ]
  },
  {
   "cell_type": "code",
   "execution_count": null,
   "metadata": {},
   "outputs": [],
   "source": [
    "pred_1.keep_from_selected_images?"
   ]
  },
  {
   "cell_type": "markdown",
   "metadata": {},
   "source": [
    "<a id=\"section_4\"></a>\n",
    "\n",
    "## 4. Plotting occultation maps\n",
    "\n",
    "SORA is also able to generate an occultation map. The only required parameters are the occultation parameters. The function also has many inputs to configure the plot.\n",
    "\n",
    "The first time the function is called, cartopy will download some data referring to the features presented in the map, such as the country and state division, lakes, rivers, etc."
   ]
  },
  {
   "cell_type": "code",
   "execution_count": null,
   "metadata": {},
   "outputs": [],
   "source": [
    "from sora.prediction import plot_occ_map"
   ]
  },
  {
   "cell_type": "code",
   "execution_count": null,
   "metadata": {},
   "outputs": [],
   "source": [
    "plot_occ_map?"
   ]
  },
  {
   "cell_type": "markdown",
   "metadata": {},
   "source": [
    "**To make it easier to plot the predictions, the `PredictionTable.plot_occ_map()` function can be called which automatically fills the required parameters.**\n",
    "\n",
    "To plot the map for all the predictions\n"
   ]
  },
  {
   "cell_type": "code",
   "execution_count": null,
   "metadata": {},
   "outputs": [],
   "source": [
    "pred.plot_occ_map(path='output/')"
   ]
  },
  {
   "cell_type": "markdown",
   "metadata": {},
   "source": [
    "To plot the map for only one prediction, just give a item to the `PredictionTable` object."
   ]
  },
  {
   "cell_type": "code",
   "execution_count": null,
   "metadata": {},
   "outputs": [],
   "source": [
    "pred[0].plot_occ_map(path='output/')"
   ]
  },
  {
   "cell_type": "markdown",
   "metadata": {},
   "source": [
    "**The** `PredictionTable` **can also be plotted by giving the date of the occultation. All the occultations that matches the date will be plotted.**\n",
    "\n",
    "The date can be as constrained as the user wants, and must match the text that appears in the _'Epoch'_ column."
   ]
  },
  {
   "cell_type": "code",
   "execution_count": null,
   "metadata": {},
   "outputs": [],
   "source": [
    "pred['2017-06-26'].plot_occ_map()"
   ]
  },
  {
   "cell_type": "markdown",
   "metadata": {},
   "source": [
    "<a id=\"section_5\"></a>\n",
    "\n",
    "## 5. Occultation parameters\n",
    "\n",
    "Finally, a function is implemented in the prediction module which calculates the occultation parameters. For this function, it must be passed a `Star` Object, an `Ephem` Object (it can be any of the `Ephem` classes) and a time. The time does not need to be precise, but it must be close within 60 minutes from the Closest Approach time."
   ]
  },
  {
   "cell_type": "code",
   "execution_count": null,
   "metadata": {},
   "outputs": [],
   "source": [
    "from sora.prediction import occ_params"
   ]
  },
  {
   "cell_type": "code",
   "execution_count": null,
   "metadata": {},
   "outputs": [],
   "source": [
    "occ_params?"
   ]
  },
  {
   "cell_type": "code",
   "execution_count": null,
   "metadata": {},
   "outputs": [],
   "source": [
    "from sora.star import Star\n",
    "\n",
    "s = Star(code='6760225712991422208', verbose=False)"
   ]
  },
  {
   "cell_type": "code",
   "execution_count": null,
   "metadata": {},
   "outputs": [],
   "source": [
    "tca, ca, pa, vel, dist = occ_params(star=s, ephem=chariklo.ephem, time='2017-06-26 20:40')\n",
    "\n",
    "print('Time of the CA:   {} UTC'.format(tca))\n",
    "print('Closest Approach: {:.3f}'.format(ca))\n",
    "print('Position Angle:   {:.3f}'.format(pa))\n",
    "print('Shadow Velocity:  {:.3f}'.format(vel))\n",
    "print('Object Distance:  {:.5f}'.format(dist))"
   ]
  },
  {
   "cell_type": "markdown",
   "metadata": {},
   "source": [
    "**This Jupyter-Notebook was designed as a tutorial for how to work with the** `prediction()` **function and** `PredictionTable` **Class. More information about the other classes, please refer to their specif Jupyter-Notebook. Any further question, please contact the core team: Altair Ramos Gomes Júnior, Bruno Eduardo Morgado, Gustavo Benedetti Rossi, and Rodrigo Carlos Boufleur.**\n",
    "\n",
    "**The End**"
   ]
  }
 ],
 "metadata": {
  "kernelspec": {
   "display_name": "SORA-dev-stats",
   "language": "python",
   "name": "sora-develop-stats"
  },
  "language_info": {
   "codemirror_mode": {
    "name": "ipython",
    "version": 3
   },
   "file_extension": ".py",
   "mimetype": "text/x-python",
   "name": "python",
   "nbconvert_exporter": "python",
   "pygments_lexer": "ipython3",
   "version": "3.9.12"
  },
  "vscode": {
   "interpreter": {
    "hash": "e791c7fa47f20d05b023e3f24fcf5d35e048e2b324f60c72e6b67828804630a8"
   }
  }
 },
 "nbformat": 4,
 "nbformat_minor": 4
}
