{
 "cells": [
  {
   "cell_type": "markdown",
   "metadata": {},
   "source": [
    "# Occultation Class\n",
    "\n",
    "The `Occultation` Class within SORA was created to reduce and analyze stellar occultations, and manage all the other Objects in a SORA occultation. Here we have some useful tasks that allow converting the times for each observatory in positions in the sky plane ($\\xi$, $\\eta$), fit an ellipse to the points, obtain the astrometrical position resulting, among others.\n",
    "\n",
    "The documentation <a href=https://sora.readthedocs.io/>here</a> contains the details about every step.  \n",
    "\n",
    "This Jupyter-Notebook was designed as a tutorial for how to work with the `Occultation` Class. More information about the other classes, please refer to their specif Jupyter-Notebook. Any further question, please contact the core team: Altair Ramos Gomes Júnior, Bruno Eduardo Morgado, Gustavo Benedetti Rossi, and Rodrigo Carlos Boufleur.\n",
    "\n",
    "**The** `Occultation` **Docstring was designed to help the users. Also, each function has its Docstring containing its main purpose and the needed parameters (physical description and formats). Please, do not hesitate to use it.**\n",
    "\n",
    "## 0. Index\n",
    "\n",
    "1. [Instantiating an Occultation Object and adding observations](#section_1)\n",
    "\n",
    "2. [Projecting the times in the sky plane and the Chords](#section_2)\n",
    "\n",
    "3. [Ellipse fit](#section_3)\n",
    "\n",
    "4. [Viewing and saving the results](#section_4)"
   ]
  },
  {
   "cell_type": "code",
   "execution_count": 1,
   "metadata": {},
   "outputs": [
    {
     "name": "stdout",
     "output_type": "stream",
     "text": [
      "SORA version: 0.3\n"
     ]
    }
   ],
   "source": [
    "## SORA package\n",
    "from sora import Occultation, Body, Star, LightCurve, Observer\n",
    "\n",
    "## Other main packages\n",
    "#from astropy.time import Time\n",
    "import astropy.units as u\n",
    "\n",
    "## Usual packages\n",
    "import numpy as np\n",
    "import matplotlib.pylab as pl\n",
    "import os"
   ]
  },
  {
   "cell_type": "markdown",
   "metadata": {},
   "source": [
    "<a id=\"section_1\"></a>\n",
    "\n",
    "## 1. Instantiating an Occultation Object and adding observations\n",
    "\n",
    "The `Occultation` Class can be instantiated in only one way. For this it is needed a `Star` Object, an `Body` Object with an `Ephemeris` Object (`EphemKernel`, `EphemPlanet` or `EphemHorizons`), and the occultation time (within 60 minutes of the correct value)."
   ]
  },
  {
   "cell_type": "code",
   "execution_count": 2,
   "metadata": {},
   "outputs": [
    {
     "data": {
      "text/plain": [
       "\u001b[0;31mInit signature:\u001b[0m\n",
       "\u001b[0mOccultation\u001b[0m\u001b[0;34m(\u001b[0m\u001b[0;34m\u001b[0m\n",
       "\u001b[0;34m\u001b[0m    \u001b[0mstar\u001b[0m\u001b[0;34m,\u001b[0m\u001b[0;34m\u001b[0m\n",
       "\u001b[0;34m\u001b[0m    \u001b[0mbody\u001b[0m\u001b[0;34m=\u001b[0m\u001b[0;32mNone\u001b[0m\u001b[0;34m,\u001b[0m\u001b[0;34m\u001b[0m\n",
       "\u001b[0;34m\u001b[0m    \u001b[0mephem\u001b[0m\u001b[0;34m=\u001b[0m\u001b[0;32mNone\u001b[0m\u001b[0;34m,\u001b[0m\u001b[0;34m\u001b[0m\n",
       "\u001b[0;34m\u001b[0m    \u001b[0mtime\u001b[0m\u001b[0;34m=\u001b[0m\u001b[0;32mNone\u001b[0m\u001b[0;34m,\u001b[0m\u001b[0;34m\u001b[0m\n",
       "\u001b[0;34m\u001b[0m    \u001b[0mreference_center\u001b[0m\u001b[0;34m=\u001b[0m\u001b[0;34m'geocenter'\u001b[0m\u001b[0;34m,\u001b[0m\u001b[0;34m\u001b[0m\n",
       "\u001b[0;34m\u001b[0m\u001b[0;34m)\u001b[0m\u001b[0;34m\u001b[0m\u001b[0;34m\u001b[0m\u001b[0m\n",
       "\u001b[0;31mDocstring:\u001b[0m     \n",
       "Instantiates the Occultation object and performs the reduction of the\n",
       "occultation.\n",
       "\n",
       "Attributes\n",
       "----------\n",
       "star : `sora.Star`, `str`, required\n",
       "    the coordinate of the star in the same reference frame as the ephemeris.\n",
       "    It must be a Star object or a string with the coordinates of the object\n",
       "    to search on Vizier.\n",
       "\n",
       "body : `sora.Body`, `str`\n",
       "    Object that will occult the star. It must be a Body object or its name\n",
       "    to search in the Small Body Database.\n",
       "\n",
       "ephem : `sora.Ephem`, `list`\n",
       "    Object ephemeris. It must be an Ephemeris object or a list.\n",
       "\n",
       "time : `str`, `astropy.time.Time`, required\n",
       "    Reference time of the occultation. Time does not need to be exact, but\n",
       "    needs to be within approximately 50 minutes of the occultation closest\n",
       "    approach to calculate occultation parameters.\n",
       "\n",
       "reference_center : `str`, `sora.Observer`, `sora.Spacecraft`\n",
       "    A SORA observer object or a string 'geocenter'.\n",
       "    The occultation parameters will be calculated in respect\n",
       "    to this reference as center of projection.\n",
       "\n",
       "\n",
       "Important\n",
       "---------\n",
       "When instantiating with \"body\" and \"ephem\", the user may define the\n",
       "Occultation in 3 ways:\n",
       "\n",
       "1. With `body` and `ephem`.\n",
       "\n",
       "2. With only \"body\". In this case, the \"body\" parameter must be a Body\n",
       "object and have an ephemeris associated (see Body documentation).\n",
       "\n",
       "3. With only `ephem`. In this case, the `ephem` parameter must be one of the\n",
       "Ephem Classes and have a name (see Ephem documentation) to search for the\n",
       "body in the Small Body Database.\n",
       "\u001b[0;31mFile:\u001b[0m           ~/Documentos/códigos/SORA/sora/occultation/core.py\n",
       "\u001b[0;31mType:\u001b[0m           type\n",
       "\u001b[0;31mSubclasses:\u001b[0m     \n"
      ]
     },
     "metadata": {},
     "output_type": "display_data"
    }
   ],
   "source": [
    "Occultation?"
   ]
  },
  {
   "cell_type": "markdown",
   "metadata": {},
   "source": [
    "**First let's instantiate the `Star` and the `Body`**\n",
    "\n",
    "SORA will automatically search for the star information. A warning will raise when any information is missing. In this example, there is no star radius available in Gaia."
   ]
  },
  {
   "cell_type": "code",
   "execution_count": 3,
   "metadata": {},
   "outputs": [
    {
     "name": "stdout",
     "output_type": "stream",
     "text": [
      "Obtaining data for Chariklo from SBDB\n",
      "1 GaiaDR3 star found band={'G': 14.223702}\n",
      "star coordinate at J2016.0: RA=18h55m15.65210s +/- 0.0197 mas, DEC=-31d31m21.6676s +/- 0.018 mas\n",
      "\n",
      "Downloading star parameters from I/297/out\n"
     ]
    }
   ],
   "source": [
    "chariklo = Body(name='Chariklo', \n",
    "                ephem=['input/bsp/Chariklo.bsp', 'input/bsp/de438_small.bsp'])\n",
    "\n",
    "star_occ  = Star(coord='18 55 15.65250 -31 31 21.67051') # Occ Chariklo 22-06-2017"
   ]
  },
  {
   "cell_type": "markdown",
   "metadata": {},
   "source": [
    "**Now, we can instantiate the** `Occultation`"
   ]
  },
  {
   "cell_type": "code",
   "execution_count": 4,
   "metadata": {},
   "outputs": [
    {
     "name": "stdout",
     "output_type": "stream",
     "text": [
      "Stellar occultation of star GaiaDR3 6760223758801661440 by 10199 Chariklo (1997 CU26).\n",
      "\n",
      "Geocentric Closest Approach: 0.049 arcsec\n",
      "Instant of CA: 2017-06-22 21:18:48.200\n",
      "Position Angle: 359.72 deg\n",
      "Geocentric shadow velocity: -22.00 km / s\n",
      "Sun-Geocenter-Target angle:  166.42 deg\n",
      "Moon-Geocenter-Target angle: 149.11 deg\n",
      "\n",
      "\n",
      "No observations reported\n",
      "\n",
      "###############################################################################\n",
      "                                     STAR                                      \n",
      "###############################################################################\n",
      "GaiaDR3 star Source ID: 6760223758801661440\n",
      "ICRS star coordinate at J2016.0:\n",
      "RA=18h55m15.65210s +/- 0.0197 mas, DEC=-31d31m21.6676s +/- 0.0180 mas\n",
      "pmRA=3.556 +/- 0.025 mas/yr, pmDEC=-2.050 +/- 0.020 mas/yr\n",
      "GaiaDR3 Proper motion corrected as suggested by Cantat-Gaudin & Brandt (2021) \n",
      "Plx=0.2121 +/- 0.0228 mas, Rad. Vel.=-40.49 +/- 3.73 km/s \n",
      "\n",
      "Magnitudes: G: 14.224, B: 14.320, V: 13.530, R: 14.180, J: 12.395, H: 11.781,\n",
      "            K: 11.627\n",
      "\n",
      "Apparent diameter from Kervella et. al (2004):\n",
      "    V: 0.0216 mas, B: 0.0216 mas\n",
      "Apparent diameter from van Belle (1999):\n",
      "    sg: B: 0.0238 mas, V: 0.0244 mas\n",
      "    ms: B: 0.0261 mas, V: 0.0198 mas\n",
      "    vs: B: 0.0350 mas, V: 0.0315 mas\n",
      "\n",
      "Geocentric star coordinate at occultation Epoch (2017-06-22 21:18:48.200):\n",
      "RA=18h55m15.65251s +/- 0.0327 mas, DEC=-31d31m21.6706s +/- 0.0341 mas\n",
      "\n",
      "###############################################################################\n",
      "                          10199 Chariklo (1997 CU26)                           \n",
      "###############################################################################\n",
      "Object Orbital Class: Centaur\n",
      "Spectral Type:\n",
      "    SMASS: D  [Reference: EAR-A-5-DDR-TAXONOMY-V4.0]\n",
      "       Relatively featureless spectrum with very steep red slope.\n",
      "Discovered 1997-Feb-15 by Spacewatch at Kitt Peak\n",
      "\n",
      "Physical parameters:\n",
      "Diameter:\n",
      "    302 +/- 30 km\n",
      "    Reference: Earth, Moon, and Planets, v. 89, Issue 1, p. 117-134 (2002), \n",
      "Rotation:\n",
      "    7.004 +/- 0 h\n",
      "    Reference: LCDB (Rev. 2021-June); Warner et al., 2009, [Result based on less than full coverage, so that the period may be wrong by 30 percent or so.]  REFERENCE LIST:[Fornasier, S.; Lazzaro, D.; Alvarez-Candal, A.; Snodgrass, C.; et al. (2014) Astron. Astrophys. 568, L11.], [Leiva, R.; Sicardy, B.; Camargo, J.I.B.; Desmars, J.; et al. (2017) Astron. J. 154, A159.]\n",
      "Absolute Magnitude:\n",
      "    6.54 +/- 0 mag\n",
      "    Reference: MPO691682, \n",
      "Albedo:\n",
      "    0.045 +/- 0.01 \n",
      "    Reference: Earth, Moon, and Planets, v. 89, Issue 1, p. 117-134 (2002), \n",
      "\n",
      "Ellipsoid: 151.0 x 151.0 x 151.0\n",
      "\n",
      "----------- Ephemeris -----------\n",
      "\n",
      "EphemKernel: CHARIKLO/DE438_SMALL (SPKID=2010199)\n",
      "Ephem Error: RA*cosDEC: 0.000 arcsec; DEC: 0.000 arcsec\n",
      "Offset applied: RA*cosDEC: 0.0000 arcsec; DEC: 0.0000 arcsec\n",
      "\n",
      "\n",
      "\n"
     ]
    }
   ],
   "source": [
    "occ = Occultation(star=star_occ, body=chariklo, time='2017-06-22 21:18')\n",
    "\n",
    "print(occ)"
   ]
  },
  {
   "cell_type": "markdown",
   "metadata": {},
   "source": [
    "If the occultation was observed by a spacecraft, the Occultation parameters should be refered to this observer. For that, it is necessary to pass the observer as the center of reference for the `Occultation`"
   ]
  },
  {
   "cell_type": "code",
   "execution_count": 5,
   "metadata": {},
   "outputs": [],
   "source": [
    "# from sora import Spacecraft\n",
    "# nh = Spacecraft(name='New Horizons', spkid='-98', ephem='horizons')\n",
    "# nh_occ = Occultation(star=star, body=body, time=time, reference_center=nh)"
   ]
  },
  {
   "cell_type": "markdown",
   "metadata": {},
   "source": [
    "**Note that at the** `print(Occultation)` **there are no observations added to this** `Occultation` **yet.**\n",
    "\n",
    "It is needed one `Observer` and one `LightCurve` to define an `Chord`."
   ]
  },
  {
   "cell_type": "markdown",
   "metadata": {},
   "source": [
    "**Let's instanciate the** `Observers`\n",
    "\n",
    "Here we will give 5 locations"
   ]
  },
  {
   "cell_type": "code",
   "execution_count": 6,
   "metadata": {},
   "outputs": [],
   "source": [
    "out = Observer(name='Outeniqua'  ,lon='+16 49 17.710', lat='-21 17 58.170', height =1416)\n",
    "ond = Observer(name='Onduruquea' ,lon='+15 59 33.750', lat='-21 36 26.040', height =1220)\n",
    "tiv = Observer(name='Tivoli'     ,lon='+18 01 01.240', lat='-23 27 40.190', height =1344)\n",
    "whc = Observer(name='Windhoek'   ,lon='+17 06 31.900', lat='-22 41 55.160', height =1902)\n",
    "hak = Observer(name='Hakos'      ,lon='+16 21 41.320', lat='-23 14 11.040', height =1843)"
   ]
  },
  {
   "cell_type": "markdown",
   "metadata": {},
   "source": [
    "If a spacecraft observed the occultation, a `Spacecraft` object could be defined and added to the `Occultation` normally."
   ]
  },
  {
   "cell_type": "markdown",
   "metadata": {},
   "source": [
    "**Let's instanciate the** `LightCurves`\n",
    "\n",
    "Here we give 6 light curves. Note that 2 are for the same site observed with different telescopes."
   ]
  },
  {
   "cell_type": "code",
   "execution_count": 7,
   "metadata": {},
   "outputs": [],
   "source": [
    "#THE ERRORS ARE INCREASED FOR BETTER VISUALIZATION\n",
    "\n",
    "out_lc = LightCurve(name='Outeniqua lc',\n",
    "                    initial_time='2017-06-22 21:20:00.056',\n",
    "                    end_time ='2017-06-22 21:29:59.963',\n",
    "                    immersion='2017-06-22 21:21:20.329',immersion_err=0.320,\n",
    "                    emersion ='2017-06-22 21:21:30.343',emersion_err=0.340)\n",
    "\n",
    "ond_lc = LightCurve(name='Onduruquea lc',\n",
    "                    initial_time='2017-06-22 21:11:52.175',\n",
    "                    end_time ='2017-06-22 21:25:13.389',\n",
    "                    immersion='2017-06-22 21:21:22.213',immersion_err=0.100,\n",
    "                    emersion ='2017-06-22 21:21:33.824',emersion_err=0.110)\n",
    "\n",
    "tiv_lc = LightCurve(name='Tivoli lc',\n",
    "                    initial_time='2017-06-22 21:16:00.094',\n",
    "                    end_time ='2017-06-22 21:28:00.018',\n",
    "                    immersion='2017-06-22 21:21:15.628',immersion_err=0.700,\n",
    "                    emersion ='2017-06-22 21:21:19.988',emersion_err=0.700)\n",
    "\n",
    "whc_c14_lc = LightCurve(name='Windhoek C14 lc',\n",
    "                    initial_time='2017-06-22 21:12:48.250',\n",
    "                    end_time ='2017-06-22 21:32:47.963',\n",
    "                    immersion='2017-06-22 21:21:17.609',immersion_err=0.240,\n",
    "                    emersion ='2017-06-22 21:21:27.564',emersion_err=0.260)\n",
    "\n",
    "whc_d16_lc = LightCurve(name='Windhoek D16 lc',\n",
    "                    initial_time='2017-06-22 21:20:01.884',\n",
    "                    end_time ='2017-06-22 21:22:21.894',\n",
    "                    immersion='2017-06-22 21:21:17.288',immersion_err=0.280,\n",
    "                    emersion ='2017-06-22 21:21:27.228',emersion_err=0.340)\n",
    "\n",
    "hak_lc = LightCurve(name='Hakos lc',\n",
    "                    initial_time='2017-06-22 21:10:19.461',\n",
    "                    end_time ='2017-06-22 21:30:19.345')"
   ]
  },
  {
   "cell_type": "markdown",
   "metadata": {},
   "source": [
    "**To add the observation to the** `Occultation` **just use the** `Occultation.chords.add_chord()`\n",
    "\n",
    "During this step the `LightCurve` model parameters are automaticaly updated using the `Occultation` parameters: the Shadow's velocity, the star diameter and the distance to the occulting body. This means that is no need for the user to do the `LightCurve.set_dist()`, `LightCurve.set_vel()` and `LightCurve.set_star_diam()`."
   ]
  },
  {
   "cell_type": "code",
   "execution_count": 8,
   "metadata": {},
   "outputs": [
    {
     "name": "stderr",
     "output_type": "stream",
     "text": [
      "/home/altair/Documentos/códigos/SORA/sora/body/core.py:332: UserWarning: H and/or G is not defined for 10199 Chariklo. Searching into JPL Horizons service\n",
      "  warnings.warn('H and/or G is not defined for {}. Searching into JPL Horizons service'.format(self.shortname))\n"
     ]
    },
    {
     "data": {
      "text/plain": [
       "<Chord: Tivoli>"
      ]
     },
     "execution_count": 8,
     "metadata": {},
     "output_type": "execute_result"
    }
   ],
   "source": [
    "occ.chords.add_chord(observer=out, lightcurve=out_lc)\n",
    "occ.chords.add_chord(observer=ond, lightcurve=ond_lc)\n",
    "occ.chords.add_chord(observer=tiv, lightcurve=tiv_lc)"
   ]
  },
  {
   "cell_type": "markdown",
   "metadata": {},
   "source": [
    "Note that a warning comes up if the flux drop is not calculated automatically."
   ]
  },
  {
   "cell_type": "markdown",
   "metadata": {},
   "source": [
    "**The same goes for two observation at with the same** `Observer` **, however is important to define their names as different values**"
   ]
  },
  {
   "cell_type": "code",
   "execution_count": 9,
   "metadata": {},
   "outputs": [
    {
     "data": {
      "text/plain": [
       "<Chord: Windhoek D16>"
      ]
     },
     "execution_count": 9,
     "metadata": {},
     "output_type": "execute_result"
    }
   ],
   "source": [
    "occ.chords.add_chord(name='Windhoek C14', observer=whc, lightcurve=whc_c14_lc)\n",
    "occ.chords.add_chord(name='Windhoek D16', observer=whc, lightcurve=whc_d16_lc)"
   ]
  },
  {
   "cell_type": "markdown",
   "metadata": {},
   "source": [
    "**Also, the same goes for negative observations**"
   ]
  },
  {
   "cell_type": "code",
   "execution_count": 10,
   "metadata": {},
   "outputs": [
    {
     "data": {
      "text/plain": [
       "<Chord: Hakos>"
      ]
     },
     "execution_count": 10,
     "metadata": {},
     "output_type": "execute_result"
    }
   ],
   "source": [
    "occ.chords.add_chord(observer=hak, lightcurve=hak_lc)"
   ]
  },
  {
   "cell_type": "markdown",
   "metadata": {},
   "source": [
    "If an spacecraft observed the occultation, just define the `Spacecraft` object and add it to the `Occutation` as usual."
   ]
  },
  {
   "cell_type": "code",
   "execution_count": 11,
   "metadata": {},
   "outputs": [],
   "source": [
    "# from sora import Spacecraft\n",
    "# nh = Spacecraft(name='New Horizons', spkid='-98', ephem='horizons')\n",
    "# occ.chords.add_chord(observer=nh, lightcurve=lightcurve)"
   ]
  },
  {
   "cell_type": "markdown",
   "metadata": {},
   "source": [
    "**To check which observers were added to the** `Occultation` **just use** `Occultation.chords`"
   ]
  },
  {
   "cell_type": "code",
   "execution_count": 12,
   "metadata": {},
   "outputs": [
    {
     "data": {
      "text/plain": [
       "<ChordList:\n",
       "    0: Chord(Outeniqua)\n",
       "    1: Chord(Onduruquea)\n",
       "    2: Chord(Tivoli)\n",
       "    3: Chord(Windhoek C14)\n",
       "    4: Chord(Windhoek D16)\n",
       "    5: Chord(Hakos)>"
      ]
     },
     "execution_count": 12,
     "metadata": {},
     "output_type": "execute_result"
    }
   ],
   "source": [
    "occ.chords"
   ]
  },
  {
   "cell_type": "markdown",
   "metadata": {},
   "source": [
    "**If any of them was wrongly added just remove it using** `Occultation.chords.remove_chord()`"
   ]
  },
  {
   "cell_type": "code",
   "execution_count": 13,
   "metadata": {},
   "outputs": [],
   "source": [
    "occ.chords.remove_chord(name='Outeniqua')"
   ]
  },
  {
   "cell_type": "code",
   "execution_count": 14,
   "metadata": {},
   "outputs": [
    {
     "data": {
      "text/plain": [
       "<ChordList:\n",
       "    0: Chord(Onduruquea)\n",
       "    1: Chord(Tivoli)\n",
       "    2: Chord(Windhoek C14)\n",
       "    3: Chord(Windhoek D16)\n",
       "    4: Chord(Hakos)>"
      ]
     },
     "execution_count": 14,
     "metadata": {},
     "output_type": "execute_result"
    }
   ],
   "source": [
    "occ.chords"
   ]
  },
  {
   "cell_type": "markdown",
   "metadata": {},
   "source": [
    "**If all the chords were wrongly added the user can clear the** `Occultation` **using** `Occultation.chords.clear()`"
   ]
  },
  {
   "cell_type": "code",
   "execution_count": 15,
   "metadata": {},
   "outputs": [],
   "source": [
    "occ.chords.clear()"
   ]
  },
  {
   "cell_type": "code",
   "execution_count": 16,
   "metadata": {},
   "outputs": [
    {
     "data": {
      "text/plain": [
       "<ChordList:>"
      ]
     },
     "execution_count": 16,
     "metadata": {},
     "output_type": "execute_result"
    }
   ],
   "source": [
    "occ.chords"
   ]
  },
  {
   "cell_type": "code",
   "execution_count": 17,
   "metadata": {},
   "outputs": [
    {
     "data": {
      "text/plain": [
       "<Chord: Hakos>"
      ]
     },
     "execution_count": 17,
     "metadata": {},
     "output_type": "execute_result"
    }
   ],
   "source": [
    "occ.chords.add_chord(observer=out, lightcurve=out_lc)\n",
    "occ.chords.add_chord(observer=ond, lightcurve=ond_lc)\n",
    "occ.chords.add_chord(observer=tiv, lightcurve=tiv_lc)\n",
    "occ.chords.add_chord(name='Windhoek C14', observer=whc, lightcurve=whc_c14_lc)\n",
    "occ.chords.add_chord(name='Windhoek D16', observer=whc, lightcurve=whc_d16_lc)\n",
    "occ.chords.add_chord(observer=hak, lightcurve=hak_lc)"
   ]
  },
  {
   "cell_type": "markdown",
   "metadata": {},
   "source": [
    "<a id=\"section_2\"></a>\n",
    "\n",
    "## 2. Projecting the times in the sky plane and the Chords\n",
    "\n",
    "This step is done automatically without the user having to ask for it. The user can see it automatically using `Occultation.chords.summary()` that contains all positions for all observations added."
   ]
  },
  {
   "cell_type": "code",
   "execution_count": 18,
   "metadata": {},
   "outputs": [
    {
     "name": "stdout",
     "output_type": "stream",
     "text": [
      "    Name      Longitude      Latitude      status              time              f        g   \n",
      "------------ ------------ ------------- ------------ ----------------------- --------- -------\n",
      "   Outeniqua 16d49m17.71s -21d17m58.17s Initial Time 2017-06-22 21:20:00.056  -1912.82   45.76\n",
      "                                           Immersion 2017-06-22 21:21:20.329   -118.28   65.39\n",
      "                                            Emersion 2017-06-22 21:21:30.343    105.60   67.83\n",
      "                                            End Time 2017-06-22 21:29:59.963  11501.40  190.23\n",
      "  Onduruquea 15d59m33.75s -21d36m26.04s Initial Time 2017-06-22 21:11:52.175 -12876.38 -135.47\n",
      "                                           Immersion 2017-06-22 21:21:22.213   -138.25    7.19\n",
      "                                            Emersion 2017-06-22 21:21:33.824    121.28   10.05\n",
      "                                            End Time 2017-06-22 21:25:13.389   5029.49   63.76\n",
      "      Tivoli 18d01m01.24s -23d27m40.19s Initial Time 2017-06-22 21:16:00.094  -7123.66 -202.63\n",
      "                                           Immersion 2017-06-22 21:21:15.628    -70.56 -126.77\n",
      "                                            Emersion 2017-06-22 21:21:19.988     26.91 -125.73\n",
      "                                            End Time 2017-06-22 21:28:00.018   8971.45  -31.61\n",
      "Windhoek C14  17d06m31.9s -22d41m55.16s Initial Time 2017-06-22 21:12:48.250 -11505.42 -198.50\n",
      "                                           Immersion 2017-06-22 21:21:17.609   -121.72  -73.52\n",
      "                                            Emersion 2017-06-22 21:21:27.564    100.82  -71.11\n",
      "                                            End Time 2017-06-22 21:32:47.963  15314.98   90.02\n",
      "Windhoek D16  17d06m31.9s -22d41m55.16s Initial Time 2017-06-22 21:20:01.884  -1814.42  -91.87\n",
      "                                           Immersion 2017-06-22 21:21:17.288   -128.89  -73.59\n",
      "                                            Emersion 2017-06-22 21:21:27.228     93.31  -71.19\n",
      "                                            End Time 2017-06-22 21:22:21.894   1315.35  -58.00\n",
      "       Hakos 16d21m41.32s -23d14m11.04s Initial Time 2017-06-22 21:10:19.461 -14875.34 -316.83\n",
      "                                            End Time 2017-06-22 21:30:19.345  11939.87  -23.52\n"
     ]
    }
   ],
   "source": [
    "occ.chords.summary()"
   ]
  },
  {
   "cell_type": "markdown",
   "metadata": {},
   "source": [
    "**Let's give a look to an specific** `Chord`"
   ]
  },
  {
   "cell_type": "code",
   "execution_count": 19,
   "metadata": {},
   "outputs": [],
   "source": [
    "chord = occ.chords['Outeniqua']"
   ]
  },
  {
   "cell_type": "markdown",
   "metadata": {},
   "source": [
    "**The user can easily acess the f and g for the immersion and emersion times using the** `Chord.get_fg()`"
   ]
  },
  {
   "cell_type": "code",
   "execution_count": 20,
   "metadata": {},
   "outputs": [
    {
     "data": {
      "text/plain": [
       "(array([-118.27875072,  105.59793973]), array([65.3915666 , 67.83395663]))"
      ]
     },
     "execution_count": 20,
     "metadata": {},
     "output_type": "execute_result"
    }
   ],
   "source": [
    "chord.get_fg()"
   ]
  },
  {
   "cell_type": "markdown",
   "metadata": {},
   "source": [
    "**To see the f and g projection for the immersion and emersion times used in the fitting process, the user can use the following function**"
   ]
  },
  {
   "cell_type": "code",
   "execution_count": 21,
   "metadata": {},
   "outputs": [
    {
     "name": "stdout",
     "output_type": "stream",
     "text": [
      "['Outeniqua_immersion' 'Outeniqua_emersion' 'Onduruquea_immersion'\n",
      " 'Onduruquea_emersion' 'Tivoli_immersion' 'Tivoli_emersion'\n",
      " 'Windhoek C14_immersion' 'Windhoek C14_emersion' 'Windhoek D16_immersion'\n",
      " 'Windhoek D16_emersion']\n",
      "[[-118.27875072   65.3915666 ]\n",
      " [ 105.59793973   67.83395663]\n",
      " [-138.25381491    7.1933912 ]\n",
      " [ 121.275169     10.05237144]\n",
      " [ -70.56164003 -126.77190052]\n",
      " [  26.91022935 -125.73348183]\n",
      " [-121.71711407  -73.51645459]\n",
      " [ 100.81847461  -71.10987823]\n",
      " [-128.89276574  -73.59407832]\n",
      " [  93.30744752  -71.19108221]]\n",
      "[[ 7.15400526  0.07806865]\n",
      " [ 7.60120413  0.08290053]\n",
      " [ 2.23518846  0.02463189]\n",
      " [ 2.45872898  0.0270767 ]\n",
      " [15.64912805  0.16673645]\n",
      " [15.64918323  0.16669294]\n",
      " [ 5.36497525  0.05803441]\n",
      " [ 5.81210573  0.06283513]\n",
      " [ 6.25913618  0.06770901]\n",
      " [ 7.60044325  0.08217062]]\n"
     ]
    }
   ],
   "source": [
    "names, fg, error = occ.chords.get_limb_points()\n",
    "print(names)\n",
    "print(fg)\n",
    "print(error)"
   ]
  },
  {
   "cell_type": "markdown",
   "metadata": {},
   "source": [
    "**The user can also set a specific time**"
   ]
  },
  {
   "cell_type": "code",
   "execution_count": 22,
   "metadata": {},
   "outputs": [
    {
     "data": {
      "text/plain": [
       "(-28724.98453460884, -258.35753813600354)"
      ]
     },
     "execution_count": 22,
     "metadata": {},
     "output_type": "execute_result"
    }
   ],
   "source": [
    "chord.get_fg(time='2017-06-22 21:00:00.000')"
   ]
  },
  {
   "cell_type": "markdown",
   "metadata": {},
   "source": [
    "**Finally, the user can visually see the chord in the Sky-plane using the** `Chord.plot_chord()`."
   ]
  },
  {
   "cell_type": "code",
   "execution_count": 23,
   "metadata": {},
   "outputs": [
    {
     "data": {
      "image/png": "[encoded data removed]",
      "text/plain": [
       "<Figure size 432x288 with 1 Axes>"
      ]
     },
     "metadata": {
      "needs_background": "light"
     },
     "output_type": "display_data"
    }
   ],
   "source": [
    "chord.plot_chord(segment='positive', color='blue')\n",
    "chord.plot_chord(segment='error', color='red')\n",
    "\n",
    "pl.xlim(+250,-250)\n",
    "pl.ylim(-250,+250)\n",
    "pl.show()"
   ]
  },
  {
   "cell_type": "markdown",
   "metadata": {},
   "source": [
    "**Let's define a** `LightCurve` **with times and fluxes**"
   ]
  },
  {
   "cell_type": "code",
   "execution_count": 24,
   "metadata": {},
   "outputs": [],
   "source": [
    "chord2 = occ.chords['Hakos']\n",
    "\n",
    "chord2.lightcurve.set_flux(file='input/lightcurves/lc_example_5.dat', exptime=1.000, usecols=[0,1])"
   ]
  },
  {
   "cell_type": "markdown",
   "metadata": {},
   "source": [
    "**The** `Chord.plot_chord()` **can also be used with an** `linestyle = \"exposure\"` **to see the times where the the chord in fact holds information and the readout time (without information).**"
   ]
  },
  {
   "cell_type": "code",
   "execution_count": 25,
   "metadata": {},
   "outputs": [
    {
     "data": {
      "image/png": "[encoded data removed]",
      "text/plain": [
       "<Figure size 432x288 with 1 Axes>"
      ]
     },
     "metadata": {
      "needs_background": "light"
     },
     "output_type": "display_data"
    }
   ],
   "source": [
    "chord2.plot_chord(segment='negative', linestyle='exposure', color='green')\n",
    "\n",
    "pl.xlim(+250,-250)\n",
    "pl.ylim(-250,+250)\n",
    "pl.show()"
   ]
  },
  {
   "cell_type": "markdown",
   "metadata": {},
   "source": [
    "**Now let's consider all the chords**"
   ]
  },
  {
   "cell_type": "code",
   "execution_count": 26,
   "metadata": {},
   "outputs": [
    {
     "data": {
      "image/png": "[encoded data removed]",
      "text/plain": [
       "<Figure size 432x288 with 1 Axes>"
      ]
     },
     "metadata": {
      "needs_background": "light"
     },
     "output_type": "display_data"
    }
   ],
   "source": [
    "occ.chords.plot_chords()\n",
    "occ.chords.plot_chords(segment='error', color='red')\n",
    "\n",
    "pl.legend(loc=1)\n",
    "pl.xlim(+170,-330)\n",
    "pl.ylim(-250,+250)\n",
    "pl.show()"
   ]
  },
  {
   "cell_type": "markdown",
   "metadata": {},
   "source": [
    "**If there are known time shifts, this can be easily solved using** `LightCurve.dt`"
   ]
  },
  {
   "cell_type": "code",
   "execution_count": 27,
   "metadata": {},
   "outputs": [],
   "source": [
    "out_lc.dt = -0.150\n",
    "ond_lc.dt = -0.190\n",
    "tiv_lc.dt = -0.150\n",
    "whc_c14_lc.dt = -0.375\n",
    "whc_d16_lc.dt = +0.000"
   ]
  },
  {
   "cell_type": "code",
   "execution_count": 28,
   "metadata": {},
   "outputs": [
    {
     "data": {
      "image/png": "[encoded data removed]",
      "text/plain": [
       "<Figure size 432x288 with 1 Axes>"
      ]
     },
     "metadata": {
      "needs_background": "light"
     },
     "output_type": "display_data"
    }
   ],
   "source": [
    "occ.chords.plot_chords()\n",
    "occ.chords.plot_chords(segment='error', color='red')\n",
    "\n",
    "pl.legend(loc=1)\n",
    "pl.xlim(+170,-330)\n",
    "pl.ylim(-250,+250)\n",
    "pl.show()"
   ]
  },
  {
   "cell_type": "markdown",
   "metadata": {},
   "source": [
    "**The user can save these positions**"
   ]
  },
  {
   "cell_type": "code",
   "execution_count": 29,
   "metadata": {},
   "outputs": [],
   "source": [
    "occ.to_file()"
   ]
  },
  {
   "cell_type": "markdown",
   "metadata": {},
   "source": [
    "<a id=\"section_3\"></a>\n",
    "\n",
    "## 3. Ellipse fit\n",
    "\n",
    "The next step is the fitting of an ellipse. The five parameters that describe the ellipse are:\n",
    "\n",
    "**1.** and **2.** The centre position ($f_0$, $g_0$)\n",
    "\n",
    "**3.** The apparent equatorial radius, semi-major axix ($a'$)\n",
    "\n",
    "**4.** The oblatness ($\\epsilon' = \\frac{a' - b'}{a'}$) \n",
    "\n",
    "**5.** The position angle of the pole, semi-minor axis ($P$)\n",
    "\n",
    "The result of the fit is a `ChiSquare` Object, and its functions can be found at its specific Jupyter-Notebook."
   ]
  },
  {
   "cell_type": "markdown",
   "metadata": {},
   "source": [
    "**Here, there is only the manual method, the user should provide the parameters to the fit and also the region for searching each parameters.**\n",
    "\n",
    "The equation to be minimize is:\n",
    "\n",
    "$\\chi^2 = \\sum_{i}^{N} \\frac{(r_{i} - r'_{i})^2}{\\sigma_i^2 + \\sigma_{model}^2}$\n",
    "\n",
    "where:\n",
    "- $r_i$ is the radial distance between the $i^{th}$ observed point and the ellipse centre;\n",
    "- $r'_i$ is the radial distance between the modelled ellipse's $i^{th}$ point and the ellipse centre;\n",
    "- $\\sigma_i$ is the unceartainty of the $i^{th}$ observed point\n",
    "- $\\sigma_{model}$ is the model uncertainty, that is releated to the difference between the real apparent shape of the occultating object and the ellipse model."
   ]
  },
  {
   "cell_type": "code",
   "execution_count": 30,
   "metadata": {},
   "outputs": [
    {
     "data": {
      "text/plain": [
       "\u001b[0;31mSignature:\u001b[0m \u001b[0mocc\u001b[0m\u001b[0;34m.\u001b[0m\u001b[0mfit_ellipse\u001b[0m\u001b[0;34m(\u001b[0m\u001b[0;34m**\u001b[0m\u001b[0mkwargs\u001b[0m\u001b[0;34m)\u001b[0m\u001b[0;34m\u001b[0m\u001b[0;34m\u001b[0m\u001b[0m\n",
       "\u001b[0;31mDocstring:\u001b[0m\n",
       "Fits an ellipse to given occultation using given parameters.\n",
       "\n",
       "Parameters\n",
       "----------\n",
       "center_f : `int`, `float`, default=0\n",
       "    The coordinate in f of the ellipse center.\n",
       "\n",
       "center_g : `int`, `float`, default=0\n",
       "    The coordinate in g of the ellipse center.\n",
       "\n",
       "equatorial_radius : `int`, `float`\n",
       "    The Equatorial radius (semi-major axis) of the ellipse.\n",
       "\n",
       "oblateness : `int`, `float`, default=0\n",
       "    The oblateness of the ellipse.\n",
       "\n",
       "position_angle : `int`, `float`, default=0\n",
       "    The pole position angle of the ellipse in degrees.\n",
       "    Zero is in the North direction ('g-positive'). Positive clockwise.\n",
       "\n",
       "dcenter_f : `int`, `float`\n",
       "    Interval for coordinate f of the ellipse center.\n",
       "\n",
       "dcenter_g : `int`, `float`\n",
       "    Interval for coordinate g of the ellipse center.\n",
       "\n",
       "dequatorial_radius `int`, `float`\n",
       "    Interval for the Equatorial radius (semi-major axis) of the ellipse.\n",
       "\n",
       "doblateness : `int`, `float`\n",
       "    Interval for the oblateness of the ellipse\n",
       "\n",
       "dposition_angle : `int`, `float`\n",
       "    Interval for the pole position angle of the ellipse in degrees.\n",
       "\n",
       "loop : `int`, default=10000000\n",
       "    The number of ellipses to attempt fitting.\n",
       "\n",
       "dchi_min : `int`, `float`\n",
       "    If given, it will only save ellipsis which chi square are smaller than\n",
       "    chi_min + dchi_min. By default `None` when used with `method='chisqr`, and\n",
       "    `3` for other methods.\n",
       "\n",
       "number_chi : `int`, default=10000\n",
       "    In the `chisqr` method if `dchi_min` is given, the procedure is repeated until\n",
       "    `number_chi` is reached.\n",
       "    In other methods it is the number of values (simulations) that should lie within\n",
       "    the provided `sigma_result`.\n",
       "\n",
       "verbose : `bool`, default=False\n",
       "    If True, it prints information while fitting.\n",
       "\n",
       "ellipse_error : `int`, `float`\n",
       "    Model uncertainty to be considered in the fit, in km.\n",
       "\n",
       "sigma_result : `int`, `float`\n",
       "    Sigma value to be considered as result.\n",
       "\n",
       "method : `str`, default=`least_squares`\n",
       "    Method used to perform the fit. Available methods are:\n",
       "    `chisqr` : monte carlo computation method used in versions of SORA <= 0.2.1.\n",
       "    `fastchi` : monte carlo computation method, allows multithreading .\n",
       "    `least_squares` or `ls`: best fit done used levenberg marquardt convergence algorithm.\n",
       "    `differential_evolution` or ``de`: best fit done using genetic algorithms.\n",
       "    All methods return a Chisquare object.\n",
       "\n",
       "threads : `int`\n",
       "    Number of threads/workers used to perform parallel computations of the chi square\n",
       "    object. It works with all methods except `chisqr`, by default 1.\n",
       "\n",
       "Returns\n",
       "-------\n",
       "chisquare : `sora.ChiSquare`\n",
       "    A ChiSquare object with all parameters.\n",
       "\n",
       "Important\n",
       "---------\n",
       "Each occultation is added as the first argument(s) directly.\n",
       "\n",
       "Mandatory input parameters: 'center_f', 'center_g', 'equatorial_radius',\n",
       "'oblateness', and 'position_angle'.\n",
       "\n",
       "Parameters fitting interval: 'dcenter_f', 'dcenter_g', 'dequatorial_radius',\n",
       "'doblateness', and 'dposition_angle'. Default values are set to zero.\n",
       "Search done between (value - dvalue) and (value + dvalue).\n",
       "\n",
       "\n",
       "Examples\n",
       "--------\n",
       "To fit the ellipse to the chords of occ1 Occultation object:\n",
       "\n",
       ">>> fit_ellipse(occ1, **kwargs)\n",
       "\n",
       "To fit the ellipse to the chords of occ1 and occ2 Occultation objects together:\n",
       "\n",
       ">>> fit_ellipse(occ1, occ2, **kwargs)\n",
       "\u001b[0;31mFile:\u001b[0m      ~/Documentos/códigos/SORA/sora/occultation/core.py\n",
       "\u001b[0;31mType:\u001b[0m      method\n"
      ]
     },
     "metadata": {},
     "output_type": "display_data"
    }
   ],
   "source": [
    "occ.fit_ellipse?"
   ]
  },
  {
   "cell_type": "code",
   "execution_count": 31,
   "metadata": {},
   "outputs": [],
   "source": [
    "ellipse_chi2  = occ.fit_ellipse(center_f=-15.046, center_g=-2.495, dcenter_f=10, dcenter_g=20, \n",
    "                                equatorial_radius=138, dequatorial_radius=50, oblateness=0.093, \n",
    "                                doblateness=0.20, position_angle=90, dposition_angle=90 ,loop=100000,\n",
    "                                dchi_min=10,number_chi=20000)"
   ]
  },
  {
   "cell_type": "markdown",
   "metadata": {},
   "source": [
    "Note that here we only used 100000 loops, but it is recommended at least 10 millions for a good sample for each parameter."
   ]
  },
  {
   "cell_type": "code",
   "execution_count": 32,
   "metadata": {},
   "outputs": [
    {
     "name": "stdout",
     "output_type": "stream",
     "text": [
      "Minimum chi-square: 0.062\n",
      "Number of fitted points: 10\n",
      "Number of fitted parameters: 5\n",
      "Minimum chi-square per degree of freedom: 0.012\n",
      "\n",
      "center_f:\n",
      "    1-sigma: -13.429 +/- 0.789\n",
      "    3-sigma: -13.488 +/- 4.379\n",
      "\n",
      "center_g:\n",
      "    1-sigma: -1.969 +/- 3.795\n",
      "    3-sigma: 0.912 +/- 16.823\n",
      "\n",
      "equatorial_radius:\n",
      "    1-sigma: 139.351 +/- 5.457\n",
      "    3-sigma: 152.721 +/- 25.282\n",
      "\n",
      "oblateness:\n",
      "    1-sigma: 0.085 +/- 0.037\n",
      "    3-sigma: 0.140 +/- 0.140\n",
      "\n",
      "position_angle:\n",
      "    1-sigma: 126.475 +/- 18.116\n",
      "    3-sigma: 125.088 +/- 89.978\n",
      "\n"
     ]
    }
   ],
   "source": [
    "print(ellipse_chi2)"
   ]
  },
  {
   "cell_type": "code",
   "execution_count": 33,
   "metadata": {},
   "outputs": [
    {
     "data": {
      "image/png": "[encoded data removed]",
      "text/plain": [
       "<Figure size 432x288 with 1 Axes>"
      ]
     },
     "metadata": {
      "needs_background": "light"
     },
     "output_type": "display_data"
    },
    {
     "data": {
      "image/png": "[encoded data removed]",
      "text/plain": [
       "<Figure size 432x288 with 1 Axes>"
      ]
     },
     "metadata": {
      "needs_background": "light"
     },
     "output_type": "display_data"
    },
    {
     "data": {
      "image/png": "[encoded data removed]",
      "text/plain": [
       "<Figure size 432x288 with 1 Axes>"
      ]
     },
     "metadata": {
      "needs_background": "light"
     },
     "output_type": "display_data"
    },
    {
     "data": {
      "image/png": "[encoded data removed]",
      "text/plain": [
       "<Figure size 432x288 with 1 Axes>"
      ]
     },
     "metadata": {
      "needs_background": "light"
     },
     "output_type": "display_data"
    },
    {
     "data": {
      "image/png": "[encoded data removed]",
      "text/plain": [
       "<Figure size 432x288 with 1 Axes>"
      ]
     },
     "metadata": {
      "needs_background": "light"
     },
     "output_type": "display_data"
    }
   ],
   "source": [
    "ellipse_chi2.plot_chi2()"
   ]
  },
  {
   "cell_type": "markdown",
   "metadata": {},
   "source": [
    "**Now, besides the chords we can plot the fitted ellipse**"
   ]
  },
  {
   "cell_type": "code",
   "execution_count": 34,
   "metadata": {},
   "outputs": [
    {
     "data": {
      "image/png": "[encoded data removed]",
      "text/plain": [
       "<Figure size 432x288 with 1 Axes>"
      ]
     },
     "metadata": {
      "needs_background": "light"
     },
     "output_type": "display_data"
    }
   ],
   "source": [
    "from sora.extra import draw_ellipse\n",
    "\n",
    "occ.chords.plot_chords()\n",
    "occ.chords.plot_chords(segment='error', color='red')\n",
    "\n",
    "#plotting the best fitted ellipse, in black\n",
    "draw_ellipse(**ellipse_chi2.get_values())\n",
    "\n",
    "pl.legend(loc=1)\n",
    "pl.xlim(+170,-330)\n",
    "pl.ylim(-250,+250)\n",
    "pl.show()"
   ]
  },
  {
   "cell_type": "markdown",
   "metadata": {},
   "source": [
    "**Not just the fitted ellipse, but the user can also plot all the ellipses inside an sigma region, for instance within $3\\sigma$**\n",
    "\n",
    "This step will, possible, plot large number of ellipses, this can spend some CPU time."
   ]
  },
  {
   "cell_type": "code",
   "execution_count": 35,
   "metadata": {},
   "outputs": [
    {
     "data": {
      "image/png": "[encoded data removed]",
      "text/plain": [
       "<Figure size 432x288 with 1 Axes>"
      ]
     },
     "metadata": {
      "needs_background": "light"
     },
     "output_type": "display_data"
    }
   ],
   "source": [
    "occ.chords.plot_chords()\n",
    "occ.chords.plot_chords(segment='error', color='red')\n",
    "\n",
    "#plotting the best fitted ellipse, in black\n",
    "draw_ellipse(**ellipse_chi2.get_values())\n",
    "\n",
    "# ploting all the ellipses within 3-sigma, in gray\n",
    "draw_ellipse(**ellipse_chi2.get_values(sigma=3),alpha=1.0,lw=1)\n",
    "\n",
    "pl.legend(loc=1)\n",
    "pl.xlim(+170,-330)\n",
    "pl.ylim(-250,+250)\n",
    "pl.show()"
   ]
  },
  {
   "cell_type": "markdown",
   "metadata": {},
   "source": [
    "**As can be seen, there are some ellipses that cross the Hakos negative chord. They are impossible solutions as the Hakos lightcurve show no evidence of an occultation. The User can filter this solutions using the** `filter_negative_chord()` **function.**"
   ]
  },
  {
   "cell_type": "code",
   "execution_count": 36,
   "metadata": {},
   "outputs": [],
   "source": [
    "for from sora.occultation import filter_negative_chord"
   ]
  },
  {
   "cell_type": "code",
   "execution_count": 37,
   "metadata": {},
   "outputs": [
    {
     "data": {
      "text/plain": [
       "\u001b[0;31mSignature:\u001b[0m \u001b[0mfilter_negative_chord\u001b[0m\u001b[0;34m(\u001b[0m\u001b[0mchord\u001b[0m\u001b[0;34m,\u001b[0m \u001b[0mchisquare\u001b[0m\u001b[0;34m,\u001b[0m \u001b[0mstep\u001b[0m\u001b[0;34m=\u001b[0m\u001b[0;36m1\u001b[0m\u001b[0;34m,\u001b[0m \u001b[0msigma\u001b[0m\u001b[0;34m=\u001b[0m\u001b[0;36m0\u001b[0m\u001b[0;34m)\u001b[0m\u001b[0;34m\u001b[0m\u001b[0;34m\u001b[0m\u001b[0m\n",
       "\u001b[0;31mDocstring:\u001b[0m\n",
       "Get points for the ellipse with the given input parameters.\n",
       "\n",
       "Parameters\n",
       "----------\n",
       "chord : `sora.observer.Chord`\n",
       "    Chord object, must be associated to an Occultation to work.\n",
       "\n",
       "chisquare : `sora.extra.ChiSquare`\n",
       "    Resulted ChiSquare object of fit_ellipse.\n",
       "\n",
       "sigma : `int`, `float`\n",
       "    Uncertainty of the expected ellipse, in km.\n",
       "\n",
       "step : `int`, `float`, `str`\n",
       "    If a number, it corresponds to the step, in seconds, for each point of\n",
       "    the chord path. The step can also be equal to ``'exposure'``. In this\n",
       "    case, the chord path will consider the lightcurve individual times and\n",
       "    exptime.\n",
       "\u001b[0;31mFile:\u001b[0m      ~/Documentos/códigos/SORA/sora/occultation/utils.py\n",
       "\u001b[0;31mType:\u001b[0m      function\n"
      ]
     },
     "metadata": {},
     "output_type": "display_data"
    }
   ],
   "source": [
    "filter_negative_chord?"
   ]
  },
  {
   "cell_type": "code",
   "execution_count": 38,
   "metadata": {},
   "outputs": [
    {
     "name": "stdout",
     "output_type": "stream",
     "text": [
      "Filter chord: Hakos |█████...................................|  - 14% \r"
     ]
    },
    {
     "name": "stderr",
     "output_type": "stream",
     "text": [
      "IOPub message rate exceeded.\n",
      "The Jupyter server will temporarily stop sending output\n",
      "to the client in order to avoid crashing it.\n",
      "To change this limit, set the config variable\n",
      "`--ServerApp.iopub_msg_rate_limit`.\n",
      "\n",
      "Current values:\n",
      "ServerApp.iopub_msg_rate_limit=1000.0 (msgs/sec)\n",
      "ServerApp.rate_limit_window=3.0 (secs)\n",
      "\n"
     ]
    },
    {
     "name": "stdout",
     "output_type": "stream",
     "text": [
      "Filter chord: Hakos |██████████████..........................|  - 37% \r"
     ]
    },
    {
     "name": "stderr",
     "output_type": "stream",
     "text": [
      "IOPub message rate exceeded.\n",
      "The Jupyter server will temporarily stop sending output\n",
      "to the client in order to avoid crashing it.\n",
      "To change this limit, set the config variable\n",
      "`--ServerApp.iopub_msg_rate_limit`.\n",
      "\n",
      "Current values:\n",
      "ServerApp.iopub_msg_rate_limit=1000.0 (msgs/sec)\n",
      "ServerApp.rate_limit_window=3.0 (secs)\n",
      "\n"
     ]
    },
    {
     "name": "stdout",
     "output_type": "stream",
     "text": [
      "Filter chord: Hakos |████████████████████████................|  - 60% \r"
     ]
    },
    {
     "name": "stderr",
     "output_type": "stream",
     "text": [
      "IOPub message rate exceeded.\n",
      "The Jupyter server will temporarily stop sending output\n",
      "to the client in order to avoid crashing it.\n",
      "To change this limit, set the config variable\n",
      "`--ServerApp.iopub_msg_rate_limit`.\n",
      "\n",
      "Current values:\n",
      "ServerApp.iopub_msg_rate_limit=1000.0 (msgs/sec)\n",
      "ServerApp.rate_limit_window=3.0 (secs)\n",
      "\n"
     ]
    },
    {
     "name": "stdout",
     "output_type": "stream",
     "text": [
      "Filter chord: Hakos |█████████████████████████████████.......|  - 84% \r"
     ]
    },
    {
     "name": "stderr",
     "output_type": "stream",
     "text": [
      "IOPub message rate exceeded.\n",
      "The Jupyter server will temporarily stop sending output\n",
      "to the client in order to avoid crashing it.\n",
      "To change this limit, set the config variable\n",
      "`--ServerApp.iopub_msg_rate_limit`.\n",
      "\n",
      "Current values:\n",
      "ServerApp.iopub_msg_rate_limit=1000.0 (msgs/sec)\n",
      "ServerApp.rate_limit_window=3.0 (secs)\n",
      "\n"
     ]
    },
    {
     "name": "stdout",
     "output_type": "stream",
     "text": [
      "Filter chord: Hakos |████████████████████████████████████████|  - 100% \n",
      "Minimum chi-square: 0.062\n",
      "Number of fitted points: 10\n",
      "Number of fitted parameters: 5\n",
      "Minimum chi-square per degree of freedom: 0.012\n",
      "\n",
      "center_f:\n",
      "    1-sigma: -13.429 +/- 0.789\n",
      "    3-sigma: -13.488 +/- 4.379\n",
      "\n",
      "center_g:\n",
      "    1-sigma: -1.969 +/- 3.795\n",
      "    3-sigma: 0.912 +/- 16.823\n",
      "\n",
      "equatorial_radius:\n",
      "    1-sigma: 139.351 +/- 5.457\n",
      "    3-sigma: 149.280 +/- 21.842\n",
      "\n",
      "oblateness:\n",
      "    1-sigma: 0.085 +/- 0.037\n",
      "    3-sigma: 0.131 +/- 0.131\n",
      "\n",
      "position_angle:\n",
      "    1-sigma: 126.475 +/- 18.116\n",
      "    3-sigma: 125.088 +/- 89.978\n",
      "\n"
     ]
    }
   ],
   "source": [
    "filter_chi2 = filter_negative_chord(chord=occ.chords['Hakos'], chisquare=ellipse_chi2, step=0.5)\n",
    "\n",
    "print(filter_chi2)"
   ]
  },
  {
   "cell_type": "code",
   "execution_count": 39,
   "metadata": {},
   "outputs": [
    {
     "data": {
      "image/png": "[encoded data removed]",
      "text/plain": [
       "<Figure size 432x288 with 1 Axes>"
      ]
     },
     "metadata": {
      "needs_background": "light"
     },
     "output_type": "display_data"
    }
   ],
   "source": [
    "occ.chords.plot_chords()\n",
    "occ.chords.plot_chords(segment='error', color='red')\n",
    "\n",
    "#plotting the best fitted ellipse, in black\n",
    "draw_ellipse(**filter_chi2.get_values())\n",
    "\n",
    "# ploting all the ellipses within 3-sigma, in gray\n",
    "draw_ellipse(**filter_chi2.get_values(sigma=3),alpha=1.0,lw=1)\n",
    "\n",
    "pl.legend(loc=4,ncol=2)\n",
    "pl.xlim(+90,-90)\n",
    "pl.ylim(-180,-100)\n",
    "pl.show()"
   ]
  },
  {
   "cell_type": "markdown",
   "metadata": {},
   "source": [
    "**The user can set** `step = \"exposure\"` **and consider only the region where data was acquired, allowing ellipses that crosses the negative chord during its readout time.**"
   ]
  },
  {
   "cell_type": "code",
   "execution_count": 40,
   "metadata": {},
   "outputs": [
    {
     "name": "stdout",
     "output_type": "stream",
     "text": [
      "Filter chord: Hakos |█████...................................|  - 14% \r"
     ]
    },
    {
     "name": "stderr",
     "output_type": "stream",
     "text": [
      "IOPub message rate exceeded.\n",
      "The Jupyter server will temporarily stop sending output\n",
      "to the client in order to avoid crashing it.\n",
      "To change this limit, set the config variable\n",
      "`--ServerApp.iopub_msg_rate_limit`.\n",
      "\n",
      "Current values:\n",
      "ServerApp.iopub_msg_rate_limit=1000.0 (msgs/sec)\n",
      "ServerApp.rate_limit_window=3.0 (secs)\n",
      "\n"
     ]
    },
    {
     "name": "stdout",
     "output_type": "stream",
     "text": [
      "Filter chord: Hakos |███████████████.........................|  - 38% \r"
     ]
    },
    {
     "name": "stderr",
     "output_type": "stream",
     "text": [
      "IOPub message rate exceeded.\n",
      "The Jupyter server will temporarily stop sending output\n",
      "to the client in order to avoid crashing it.\n",
      "To change this limit, set the config variable\n",
      "`--ServerApp.iopub_msg_rate_limit`.\n",
      "\n",
      "Current values:\n",
      "ServerApp.iopub_msg_rate_limit=1000.0 (msgs/sec)\n",
      "ServerApp.rate_limit_window=3.0 (secs)\n",
      "\n"
     ]
    },
    {
     "name": "stdout",
     "output_type": "stream",
     "text": [
      "Filter chord: Hakos |█████████████████████████...............|  - 62% \r"
     ]
    },
    {
     "name": "stderr",
     "output_type": "stream",
     "text": [
      "IOPub message rate exceeded.\n",
      "The Jupyter server will temporarily stop sending output\n",
      "to the client in order to avoid crashing it.\n",
      "To change this limit, set the config variable\n",
      "`--ServerApp.iopub_msg_rate_limit`.\n",
      "\n",
      "Current values:\n",
      "ServerApp.iopub_msg_rate_limit=1000.0 (msgs/sec)\n",
      "ServerApp.rate_limit_window=3.0 (secs)\n",
      "\n"
     ]
    },
    {
     "name": "stdout",
     "output_type": "stream",
     "text": [
      "Filter chord: Hakos |███████████████████████████████████.....|  - 88% \r"
     ]
    },
    {
     "name": "stderr",
     "output_type": "stream",
     "text": [
      "IOPub message rate exceeded.\n",
      "The Jupyter server will temporarily stop sending output\n",
      "to the client in order to avoid crashing it.\n",
      "To change this limit, set the config variable\n",
      "`--ServerApp.iopub_msg_rate_limit`.\n",
      "\n",
      "Current values:\n",
      "ServerApp.iopub_msg_rate_limit=1000.0 (msgs/sec)\n",
      "ServerApp.rate_limit_window=3.0 (secs)\n",
      "\n"
     ]
    },
    {
     "name": "stdout",
     "output_type": "stream",
     "text": [
      "Filter chord: Hakos |████████████████████████████████████████|  - 100% \n",
      "Minimum chi-square: 0.062\n",
      "Number of fitted points: 10\n",
      "Number of fitted parameters: 5\n",
      "Minimum chi-square per degree of freedom: 0.012\n",
      "\n",
      "center_f:\n",
      "    1-sigma: -13.429 +/- 0.789\n",
      "    3-sigma: -13.488 +/- 4.379\n",
      "\n",
      "center_g:\n",
      "    1-sigma: -1.969 +/- 3.795\n",
      "    3-sigma: 0.912 +/- 16.823\n",
      "\n",
      "equatorial_radius:\n",
      "    1-sigma: 139.351 +/- 5.457\n",
      "    3-sigma: 149.280 +/- 21.842\n",
      "\n",
      "oblateness:\n",
      "    1-sigma: 0.085 +/- 0.037\n",
      "    3-sigma: 0.131 +/- 0.131\n",
      "\n",
      "position_angle:\n",
      "    1-sigma: 126.475 +/- 18.116\n",
      "    3-sigma: 125.088 +/- 89.978\n",
      "\n"
     ]
    }
   ],
   "source": [
    "filter_2_chi2 = filter_negative_chord(chord = occ.chords['Hakos'], chisquare = ellipse_chi2, step='exposure')\n",
    "\n",
    "print(filter_2_chi2)"
   ]
  },
  {
   "cell_type": "code",
   "execution_count": 41,
   "metadata": {},
   "outputs": [
    {
     "data": {
      "image/png": "[encoded data removed]",
      "text/plain": [
       "<Figure size 432x288 with 1 Axes>"
      ]
     },
     "metadata": {
      "needs_background": "light"
     },
     "output_type": "display_data"
    }
   ],
   "source": [
    "occ.chords.plot_chords(segment='positive')\n",
    "occ.chords.plot_chords(segment='error', color='red')\n",
    "\n",
    "chord2.plot_chord(segment='negative', linestyle='exposure', color='m', label='Hakos')\n",
    "\n",
    "#plotting the best fitted ellipse, in black\n",
    "draw_ellipse(**filter_2_chi2.get_values())\n",
    "\n",
    "# ploting all the ellipses within 3-sigma, in gray\n",
    "draw_ellipse(**filter_2_chi2.get_values(sigma=3),alpha=1.0,lw=1)\n",
    "\n",
    "pl.legend(loc=4,ncol=2)\n",
    "pl.xlim(+90,-90)\n",
    "pl.ylim(-180,-100)\n",
    "pl.show()"
   ]
  },
  {
   "cell_type": "markdown",
   "metadata": {},
   "source": [
    "**The radial velocity issue**\n",
    "\n",
    "During the `LightCurve` fitting, the user has to add the velocity for that light curve. In the initial process, only the geocentric velocity was determined, and only after the fit, a radial velocity can be correctly calculated.\n",
    "\n",
    "Usually, the light curves' features are dominated by the exposure time. However, in the cases that the fresnel diffraction plays a significant role in it, we suggest that the `LightCurve` fitting procedure should be redone with the correct velocities."
   ]
  },
  {
   "cell_type": "code",
   "execution_count": 42,
   "metadata": {},
   "outputs": [
    {
     "name": "stdout",
     "output_type": "stream",
     "text": [
      "Outeniqua - Velocity used: 22.004\n",
      "    Immersion Radial Velocity: 17.800\n",
      "    Emersion Radial Velocity: 18.284\n",
      "Onduruquea - Velocity used: 22.004\n",
      "    Immersion Radial Velocity: 22.252\n",
      "    Emersion Radial Velocity: 22.246\n",
      "Tivoli - Velocity used: 22.004\n",
      "    Immersion Radial Velocity: 8.626\n",
      "    Emersion Radial Velocity: 5.195\n",
      "Windhoek C14 - Velocity used: 22.004\n",
      "    Immersion Radial Velocity: 18.170\n",
      "    Emersion Radial Velocity: 17.470\n",
      "Windhoek D16 - Velocity used: 22.004\n",
      "    Immersion Radial Velocity: 18.107\n",
      "    Emersion Radial Velocity: 17.526\n"
     ]
    }
   ],
   "source": [
    "occ.check_velocities()"
   ]
  },
  {
   "cell_type": "markdown",
   "metadata": {},
   "source": [
    "<a id=\"section_4\"></a>\n",
    "\n",
    "## 4. Viewing and saving the results\n",
    "\n",
    "In the end, we can see the results using Python dictionaries. The `Occultation.fitted_params` will have fitted parameters and their $1\\sigma$ uncertainties. The `Occultation.chi2_params` will have some information about the fit and its quality.\n",
    "\n"
   ]
  },
  {
   "cell_type": "code",
   "execution_count": 43,
   "metadata": {},
   "outputs": [
    {
     "data": {
      "text/plain": [
       "{'equatorial_radius': [139.3506109843088, 5.4567114516244],\n",
       " 'center_f': [-13.428622523637122, 0.7891892760699086],\n",
       " 'center_g': [-1.9686948831613296, 3.795102365340013],\n",
       " 'oblateness': [0.08488597520674623, 0.03706668452200804],\n",
       " 'position_angle': [126.47517825871333, 18.116387367826775]}"
      ]
     },
     "execution_count": 43,
     "metadata": {},
     "output_type": "execute_result"
    }
   ],
   "source": [
    "occ.fitted_params"
   ]
  },
  {
   "cell_type": "code",
   "execution_count": 44,
   "metadata": {},
   "outputs": [
    {
     "data": {
      "text/plain": [
       "{'chord_name': ['Outeniqua_immersion',\n",
       "  'Outeniqua_emersion',\n",
       "  'Onduruquea_immersion',\n",
       "  'Onduruquea_emersion',\n",
       "  'Tivoli_immersion',\n",
       "  'Tivoli_emersion',\n",
       "  'Windhoek C14_immersion',\n",
       "  'Windhoek C14_emersion',\n",
       "  'Windhoek D16_immersion',\n",
       "  'Windhoek D16_emersion'],\n",
       " 'radial_dispersion': array([-0.14982613, -2.3388093 , -1.21884535, -1.3706693 , -0.17265982,\n",
       "        -2.22234731, -0.58491025, -1.06365652, -1.66000562, -0.34293474]),\n",
       " 'position_angle': array([301.88964659,  58.90450147, 274.03961814,  84.75566445,\n",
       "        205.85090919, 163.36646323, 238.44925955, 123.18339268,\n",
       "        238.18760663, 122.96493764]),\n",
       " 'radial_error': array([ 7.15442539,  7.60165495,  2.23532561,  2.45888165, 15.65002209,\n",
       "        15.65007494,  5.36529313,  5.81244286,  6.25950441,  7.60088706]),\n",
       " 'chi2_min': 0.06220013599688508,\n",
       " 'nparam': 5,\n",
       " 'npts': 10}"
      ]
     },
     "execution_count": 44,
     "metadata": {},
     "output_type": "execute_result"
    }
   ],
   "source": [
    "occ.chi2_params"
   ]
  },
  {
   "cell_type": "markdown",
   "metadata": {},
   "source": [
    "**The astrometrical positions obtained can be seen using** `Occultation.new_astrometric_position()`"
   ]
  },
  {
   "cell_type": "code",
   "execution_count": 45,
   "metadata": {},
   "outputs": [
    {
     "name": "stdout",
     "output_type": "stream",
     "text": [
      "Ephemeris offset (km): X = -13.4 km +/- 0.8 km; Y = -2.0 km +/- 3.8 km\n",
      "Ephemeris offset (mas): da_cos_dec = -1.263 +/- 0.074; d_dec = -0.185 +/- 0.357\n",
      "\n",
      "Astrometric object position at time 2017-06-22 21:18:48.200 for reference 'geocenter'\n",
      "RA = 18 55 15.6523925 +/- 0.081 mas; DEC = -31 31 21.622083 +/- 0.359 mas\n"
     ]
    }
   ],
   "source": [
    "occ.new_astrometric_position()"
   ]
  },
  {
   "cell_type": "markdown",
   "metadata": {},
   "source": [
    "**If the user wants the position at a specific time**"
   ]
  },
  {
   "cell_type": "code",
   "execution_count": 46,
   "metadata": {},
   "outputs": [
    {
     "name": "stdout",
     "output_type": "stream",
     "text": [
      "Ephemeris offset (km): X = -13.4 km +/- 0.8 km; Y = -2.0 km +/- 3.8 km\n",
      "Ephemeris offset (mas): da_cos_dec = -1.263 +/- 0.074; d_dec = -0.185 +/- 0.357\n",
      "\n",
      "Astrometric object position at time 2017-06-22 21:21:00.000 for reference 'geocenter'\n",
      "RA = 18 55 15.6310596 +/- 0.081 mas; DEC = -31 31 21.623477 +/- 0.359 mas\n"
     ]
    }
   ],
   "source": [
    "occ.new_astrometric_position('2017-06-22 21:21:00.000')"
   ]
  },
  {
   "cell_type": "markdown",
   "metadata": {},
   "source": [
    "**Also a 'post-fit' occultation map can be created using** `Occultation.plot_occ_map()`\n",
    "\n",
    "The function that plots the map contains a large number of _kwargs_. They can be used to completely control the map and its tutorial can be found at SORA documentation <a href=https://sora.readthedocs.io/>here</a>.   "
   ]
  },
  {
   "cell_type": "code",
   "execution_count": 47,
   "metadata": {},
   "outputs": [
    {
     "name": "stdout",
     "output_type": "stream",
     "text": [
      "Projected shadow radius = 135.2 km\n",
      "output/map_posfit.png generated\n"
     ]
    }
   ],
   "source": [
    "occ.plot_occ_map(centermap_delta=[-3500,+400],zoom=20,nameimg='output/map_posfit')"
   ]
  },
  {
   "cell_type": "markdown",
   "metadata": {},
   "source": [
    "<img src='output/map_posfit.png' style='width:600px;height:500px'/>"
   ]
  },
  {
   "cell_type": "markdown",
   "metadata": {},
   "source": [
    "**All this information can also be seen using** `print(Occultation)`"
   ]
  },
  {
   "cell_type": "code",
   "execution_count": 48,
   "metadata": {},
   "outputs": [
    {
     "name": "stdout",
     "output_type": "stream",
     "text": [
      "Stellar occultation of star GaiaDR3 6760223758801661440 by 10199 Chariklo (1997 CU26).\n",
      "\n",
      "Geocentric Closest Approach: 0.049 arcsec\n",
      "Instant of CA: 2017-06-22 21:18:48.200\n",
      "Position Angle: 359.72 deg\n",
      "Geocentric shadow velocity: -22.00 km / s\n",
      "Sun-Geocenter-Target angle:  166.42 deg\n",
      "Moon-Geocenter-Target angle: 149.11 deg\n",
      "\n",
      "\n",
      "5 positive observations\n",
      "1 negative observations\n",
      "\n",
      "###############################################################################\n",
      "                                     STAR                                      \n",
      "###############################################################################\n",
      "GaiaDR3 star Source ID: 6760223758801661440\n",
      "ICRS star coordinate at J2016.0:\n",
      "RA=18h55m15.65210s +/- 0.0197 mas, DEC=-31d31m21.6676s +/- 0.0180 mas\n",
      "pmRA=3.556 +/- 0.025 mas/yr, pmDEC=-2.050 +/- 0.020 mas/yr\n",
      "GaiaDR3 Proper motion corrected as suggested by Cantat-Gaudin & Brandt (2021) \n",
      "Plx=0.2121 +/- 0.0228 mas, Rad. Vel.=-40.49 +/- 3.73 km/s \n",
      "\n",
      "Magnitudes: G: 14.224, B: 14.320, V: 13.530, R: 14.180, J: 12.395, H: 11.781,\n",
      "            K: 11.627\n",
      "\n",
      "Apparent diameter from Kervella et. al (2004):\n",
      "    V: 0.0216 mas, B: 0.0216 mas\n",
      "Apparent diameter from van Belle (1999):\n",
      "    sg: B: 0.0238 mas, V: 0.0244 mas\n",
      "    ms: B: 0.0261 mas, V: 0.0198 mas\n",
      "    vs: B: 0.0350 mas, V: 0.0315 mas\n",
      "\n",
      "Geocentric star coordinate at occultation Epoch (2017-06-22 21:18:48.200):\n",
      "RA=18h55m15.65251s +/- 0.0327 mas, DEC=-31d31m21.6706s +/- 0.0341 mas\n",
      "\n",
      "###############################################################################\n",
      "                          10199 Chariklo (1997 CU26)                           \n",
      "###############################################################################\n",
      "Object Orbital Class: Centaur\n",
      "Spectral Type:\n",
      "    SMASS: D  [Reference: EAR-A-5-DDR-TAXONOMY-V4.0]\n",
      "       Relatively featureless spectrum with very steep red slope.\n",
      "Discovered 1997-Feb-15 by Spacewatch at Kitt Peak\n",
      "\n",
      "Physical parameters:\n",
      "Diameter:\n",
      "    302 +/- 30 km\n",
      "    Reference: Earth, Moon, and Planets, v. 89, Issue 1, p. 117-134 (2002), \n",
      "Rotation:\n",
      "    7.004 +/- 0 h\n",
      "    Reference: LCDB (Rev. 2021-June); Warner et al., 2009, [Result based on less than full coverage, so that the period may be wrong by 30 percent or so.]  REFERENCE LIST:[Fornasier, S.; Lazzaro, D.; Alvarez-Candal, A.; Snodgrass, C.; et al. (2014) Astron. Astrophys. 568, L11.], [Leiva, R.; Sicardy, B.; Camargo, J.I.B.; Desmars, J.; et al. (2017) Astron. J. 154, A159.]\n",
      "Absolute Magnitude:\n",
      "    6.54 +/- 0 mag\n",
      "    Reference: JPL Horizons, \n",
      "Phase Slope:\n",
      "    0.15 +/- 0 \n",
      "    Reference: JPL Horizons, \n",
      "Albedo:\n",
      "    0.045 +/- 0.01 \n",
      "    Reference: Earth, Moon, and Planets, v. 89, Issue 1, p. 117-134 (2002), \n",
      "\n",
      "Ellipsoid: 151.0 x 151.0 x 151.0\n",
      "\n",
      "----------- Ephemeris -----------\n",
      "\n",
      "EphemKernel: CHARIKLO/DE438_SMALL (SPKID=2010199)\n",
      "Ephem Error: RA*cosDEC: 0.000 arcsec; DEC: 0.000 arcsec\n",
      "Offset applied: RA*cosDEC: 0.0000 arcsec; DEC: 0.0000 arcsec\n",
      "\n",
      "\n",
      "###############################################################################\n",
      "                             POSITIVE OBSERVATIONS                             \n",
      "###############################################################################\n",
      "\n",
      "-------------------------------------------------------------------------------\n",
      "Site: Outeniqua\n",
      "Geodetic coordinates: Lon: 16d49m17.71s, Lat: -21d17m58.17s, height: 1.416 km\n",
      "Target altitude: 56.6 deg\n",
      "Target azimuth:  115.3 deg\n",
      "\n",
      "Light curve name: Outeniqua lc\n",
      "Initial time: 2017-06-22 21:20:00.056 UTC\n",
      "End time:     2017-06-22 21:29:59.963 UTC\n",
      "Duration:     9.998 minutes\n",
      "Time offset:  -0.150 seconds\n",
      "\n",
      "Object LightCurve was not instantiated with time and flux.\n",
      "\n",
      "Bandpass:             0.700 +/- 0.300 microns\n",
      "Object Distance:      14.66 AU\n",
      "Used shadow velocity: 22.004 km/s\n",
      "Fresnel scale:        0.040 seconds or 0.87 km\n",
      "Stellar size effect:  0.010 seconds or 0.23 km\n",
      "\n",
      "Object LightCurve model was not fitted.\n",
      "\n",
      "Immersion time: 2017-06-22 21:21:20.179 UTC +/- 0.320 seconds\n",
      "Emersion time:  2017-06-22 21:21:30.193 UTC +/- 0.340 seconds\n",
      "\n",
      "\n",
      "-------------------------------------------------------------------------------\n",
      "Site: Onduruquea\n",
      "Geodetic coordinates: Lon: 15d59m33.75s, Lat: -21d36m26.04s, height: 1.220 km\n",
      "Target altitude: 56.1 deg\n",
      "Target azimuth:  114.7 deg\n",
      "\n",
      "Light curve name: Onduruquea lc\n",
      "Initial time: 2017-06-22 21:11:52.175 UTC\n",
      "End time:     2017-06-22 21:25:13.389 UTC\n",
      "Duration:     13.354 minutes\n",
      "Time offset:  -0.190 seconds\n",
      "\n",
      "Object LightCurve was not instantiated with time and flux.\n",
      "\n",
      "Bandpass:             0.700 +/- 0.300 microns\n",
      "Object Distance:      14.66 AU\n",
      "Used shadow velocity: 22.004 km/s\n",
      "Fresnel scale:        0.040 seconds or 0.87 km\n",
      "Stellar size effect:  0.010 seconds or 0.23 km\n",
      "\n",
      "Object LightCurve model was not fitted.\n",
      "\n",
      "Immersion time: 2017-06-22 21:21:22.023 UTC +/- 0.100 seconds\n",
      "Emersion time:  2017-06-22 21:21:33.634 UTC +/- 0.110 seconds\n",
      "\n",
      "\n",
      "-------------------------------------------------------------------------------\n",
      "Site: Tivoli\n",
      "Geodetic coordinates: Lon: 18d01m01.24s, Lat: -23d27m40.19s, height: 1.344 km\n",
      "Target altitude: 58.5 deg\n",
      "Target azimuth:  112.4 deg\n",
      "\n",
      "Light curve name: Tivoli lc\n",
      "Initial time: 2017-06-22 21:16:00.094 UTC\n",
      "End time:     2017-06-22 21:28:00.018 UTC\n",
      "Duration:     11.999 minutes\n",
      "Time offset:  -0.150 seconds\n",
      "\n",
      "Object LightCurve was not instantiated with time and flux.\n",
      "\n",
      "Bandpass:             0.700 +/- 0.300 microns\n",
      "Object Distance:      14.66 AU\n",
      "Used shadow velocity: 22.004 km/s\n",
      "Fresnel scale:        0.040 seconds or 0.87 km\n",
      "Stellar size effect:  0.010 seconds or 0.23 km\n",
      "\n",
      "Object LightCurve model was not fitted.\n",
      "\n",
      "Immersion time: 2017-06-22 21:21:15.478 UTC +/- 0.700 seconds\n",
      "Emersion time:  2017-06-22 21:21:19.838 UTC +/- 0.700 seconds\n",
      "\n",
      "\n",
      "-------------------------------------------------------------------------------\n",
      "Site: Windhoek\n",
      "Geodetic coordinates: Lon: 17d06m31.9s, Lat: -22d41m55.16s, height: 1.902 km\n",
      "Target altitude: 57.4 deg\n",
      "Target azimuth:  113.4 deg\n",
      "\n",
      "Light curve name: Windhoek C14 lc\n",
      "Initial time: 2017-06-22 21:12:48.250 UTC\n",
      "End time:     2017-06-22 21:32:47.963 UTC\n",
      "Duration:     19.995 minutes\n",
      "Time offset:  -0.375 seconds\n",
      "\n",
      "Object LightCurve was not instantiated with time and flux.\n",
      "\n",
      "Bandpass:             0.700 +/- 0.300 microns\n",
      "Object Distance:      14.66 AU\n",
      "Used shadow velocity: 22.004 km/s\n",
      "Fresnel scale:        0.040 seconds or 0.87 km\n",
      "Stellar size effect:  0.010 seconds or 0.23 km\n",
      "\n",
      "Object LightCurve model was not fitted.\n",
      "\n",
      "Immersion time: 2017-06-22 21:21:17.234 UTC +/- 0.240 seconds\n",
      "Emersion time:  2017-06-22 21:21:27.189 UTC +/- 0.260 seconds\n",
      "\n",
      "\n",
      "-------------------------------------------------------------------------------\n",
      "Site: Windhoek\n",
      "Geodetic coordinates: Lon: 17d06m31.9s, Lat: -22d41m55.16s, height: 1.902 km\n",
      "Target altitude: 57.4 deg\n",
      "Target azimuth:  113.4 deg\n",
      "\n",
      "Light curve name: Windhoek D16 lc\n",
      "Initial time: 2017-06-22 21:20:01.884 UTC\n",
      "End time:     2017-06-22 21:22:21.894 UTC\n",
      "Duration:     2.333 minutes\n",
      "Time offset:  0.000 seconds\n",
      "\n",
      "Object LightCurve was not instantiated with time and flux.\n",
      "\n",
      "Bandpass:             0.700 +/- 0.300 microns\n",
      "Object Distance:      14.66 AU\n",
      "Used shadow velocity: 22.004 km/s\n",
      "Fresnel scale:        0.040 seconds or 0.87 km\n",
      "Stellar size effect:  0.010 seconds or 0.23 km\n",
      "\n",
      "Object LightCurve model was not fitted.\n",
      "\n",
      "Immersion time: 2017-06-22 21:21:17.288 UTC +/- 0.280 seconds\n",
      "Emersion time:  2017-06-22 21:21:27.228 UTC +/- 0.340 seconds\n",
      "\n",
      "\n",
      "###############################################################################\n",
      "                             NEGATIVE OBSERVATIONS                             \n",
      "###############################################################################\n",
      "\n",
      "-------------------------------------------------------------------------------\n",
      "Site: Hakos\n",
      "Geodetic coordinates: Lon: 16d21m41.32s, Lat: -23d14m11.04s, height: 1.843 km\n",
      "Target altitude: 56.8 deg\n",
      "Target azimuth:  112.5 deg\n",
      "\n",
      "Light curve name: Hakos lc\n",
      "Initial time: 2017-06-22 21:10:19.961 UTC\n",
      "End time:     2017-06-22 21:30:16.955 UTC\n",
      "Duration:     19.950 minutes\n",
      "Time offset:  0.000 seconds\n",
      "\n",
      "Exposure time:    1.0000 seconds\n",
      "Cycle time:       2.9998 seconds\n",
      "Num. data points: 400\n",
      "\n",
      "Bandpass:             0.700 +/- 0.300 microns\n",
      "Object Distance:      14.66 AU\n",
      "Used shadow velocity: 22.004 km/s\n",
      "Fresnel scale:        0.040 seconds or 0.87 km\n",
      "Stellar size effect:  0.010 seconds or 0.23 km\n",
      "\n",
      "Object LightCurve model was not fitted.\n",
      "\n",
      "Immersion and emersion times were not fitted or instantiated.\n",
      "\n",
      "\n",
      "###############################################################################\n",
      "                                    RESULTS                                    \n",
      "###############################################################################\n",
      "\n",
      "Fitted Ellipse:\n",
      "equatorial_radius: 139.351 +/- 5.457\n",
      "center_f: -13.429 +/- 0.789\n",
      "center_g: -1.969 +/- 3.795\n",
      "oblateness: 0.085 +/- 0.037\n",
      "position_angle: 126.475 +/- 18.116\n",
      "polar_radius: 127.522 km \n",
      "equivalent_radius: 133.305 km \n",
      "geometric albedo (V): 0.061 (6.1%) \n",
      "\n",
      "Minimum chi-square: 0.062\n",
      "Number of fitted points: 10\n",
      "Number of fitted parameters: 5\n",
      "Minimum chi-square per degree of freedom: 0.012\n",
      "Radial dispersion: -1.112 +/- 0.803 km\n",
      "Radial error:      7.579 +/- 4.655 km\n",
      "\n",
      "Ephemeris offset (km): X = -13.4 km +/- 0.8 km; Y = -2.0 km +/- 3.8 km\n",
      "Ephemeris offset (mas): da_cos_dec = -1.263 +/- 0.074; d_dec = -0.185 +/- 0.357\n",
      "\n",
      "Astrometric object position at time 2017-06-22 21:18:48.200 for reference 'geocenter'\n",
      "RA = 18 55 15.6523925 +/- 0.081 mas; DEC = -31 31 21.622083 +/- 0.359 mas\n"
     ]
    }
   ],
   "source": [
    "print(occ)"
   ]
  },
  {
   "cell_type": "markdown",
   "metadata": {},
   "source": [
    "**And this can be saved to an ASCII file using** `Occultation.to_log`"
   ]
  },
  {
   "cell_type": "code",
   "execution_count": 49,
   "metadata": {},
   "outputs": [
    {
     "name": "stdout",
     "output_type": "stream",
     "text": [
      "output/LC_test_1a.log  output/Test_occ.log\n"
     ]
    }
   ],
   "source": [
    "occ.to_log('output/Test_occ.log')\n",
    "\n",
    "!ls output/*.log"
   ]
  },
  {
   "cell_type": "markdown",
   "metadata": {},
   "source": [
    "**This Jupyter-Notebook was designed as a tutorial for how to work with the** `Occultation` **Class. More information about the other classes, please refer to their specif Jupyter-Notebook. Any further question, please contact the core team: Altair Ramos Gomes Júnior, Bruno Eduardo Morgado, Gustavo Benedetti Rossi, and Rodrigo Carlos Boufleur.**\n",
    "\n",
    "**The End**"
   ]
  }
 ],
 "metadata": {
  "kernelspec": {
   "display_name": "Python 3 (ipykernel)",
   "language": "python",
   "name": "python3"
  },
  "language_info": {
   "codemirror_mode": {
    "name": "ipython",
    "version": 3
   },
   "file_extension": ".py",
   "mimetype": "text/x-python",
   "name": "python",
   "nbconvert_exporter": "python",
   "pygments_lexer": "ipython3",
   "version": "3.8.13"
  }
 },
 "nbformat": 4,
 "nbformat_minor": 4
}
